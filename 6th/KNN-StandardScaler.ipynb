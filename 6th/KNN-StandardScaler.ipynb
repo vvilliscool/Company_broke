{
 "cells": [
  {
   "cell_type": "code",
   "execution_count": 1,
   "id": "0bb5609e",
   "metadata": {},
   "outputs": [],
   "source": [
    "import pandas as pd\n",
    "import numpy as np"
   ]
  },
  {
   "cell_type": "code",
   "execution_count": 2,
   "id": "7fd33fb5",
   "metadata": {},
   "outputs": [
    {
     "data": {
      "text/html": [
       "<div>\n",
       "<style scoped>\n",
       "    .dataframe tbody tr th:only-of-type {\n",
       "        vertical-align: middle;\n",
       "    }\n",
       "\n",
       "    .dataframe tbody tr th {\n",
       "        vertical-align: top;\n",
       "    }\n",
       "\n",
       "    .dataframe thead th {\n",
       "        text-align: right;\n",
       "    }\n",
       "</style>\n",
       "<table border=\"1\" class=\"dataframe\">\n",
       "  <thead>\n",
       "    <tr style=\"text-align: right;\">\n",
       "      <th></th>\n",
       "      <th>default_tf</th>\n",
       "      <th>bsn_opr_month</th>\n",
       "      <th>comsale_join_date_opr_month</th>\n",
       "      <th>soven_cert_date_opr_month</th>\n",
       "      <th>mois_permission_date_opr_month</th>\n",
       "      <th>inno_cert_date_cnt</th>\n",
       "      <th>mainbiz_cert_date_cnt</th>\n",
       "      <th>venture_cert_date_cnt</th>\n",
       "      <th>lab_cnt</th>\n",
       "      <th>stand_date_opr_month</th>\n",
       "      <th>...</th>\n",
       "      <th>design_reg_num_opr_month</th>\n",
       "      <th>cprgt_cnt</th>\n",
       "      <th>copyright_reg_date_opr_month</th>\n",
       "      <th>article_cnt</th>\n",
       "      <th>article_ym_opr_month</th>\n",
       "      <th>total</th>\n",
       "      <th>inv_opr_month</th>\n",
       "      <th>sum</th>\n",
       "      <th>investor_cnt</th>\n",
       "      <th>pblntf_pclnd</th>\n",
       "    </tr>\n",
       "  </thead>\n",
       "  <tbody>\n",
       "    <tr>\n",
       "      <th>0</th>\n",
       "      <td>0</td>\n",
       "      <td>679</td>\n",
       "      <td>0.0</td>\n",
       "      <td>0.0</td>\n",
       "      <td>0.0</td>\n",
       "      <td>0</td>\n",
       "      <td>0</td>\n",
       "      <td>0</td>\n",
       "      <td>0.0</td>\n",
       "      <td>11.0</td>\n",
       "      <td>...</td>\n",
       "      <td>0.0</td>\n",
       "      <td>0</td>\n",
       "      <td>0.0</td>\n",
       "      <td>0</td>\n",
       "      <td>0.0</td>\n",
       "      <td>5</td>\n",
       "      <td>0.0</td>\n",
       "      <td>0.0</td>\n",
       "      <td>0.0</td>\n",
       "      <td>25740.0</td>\n",
       "    </tr>\n",
       "    <tr>\n",
       "      <th>1</th>\n",
       "      <td>0</td>\n",
       "      <td>679</td>\n",
       "      <td>0.0</td>\n",
       "      <td>0.0</td>\n",
       "      <td>0.0</td>\n",
       "      <td>0</td>\n",
       "      <td>0</td>\n",
       "      <td>0</td>\n",
       "      <td>0.0</td>\n",
       "      <td>12.0</td>\n",
       "      <td>...</td>\n",
       "      <td>0.0</td>\n",
       "      <td>0</td>\n",
       "      <td>0.0</td>\n",
       "      <td>0</td>\n",
       "      <td>0.0</td>\n",
       "      <td>5</td>\n",
       "      <td>0.0</td>\n",
       "      <td>0.0</td>\n",
       "      <td>0.0</td>\n",
       "      <td>25740.0</td>\n",
       "    </tr>\n",
       "    <tr>\n",
       "      <th>2</th>\n",
       "      <td>0</td>\n",
       "      <td>679</td>\n",
       "      <td>0.0</td>\n",
       "      <td>0.0</td>\n",
       "      <td>0.0</td>\n",
       "      <td>0</td>\n",
       "      <td>0</td>\n",
       "      <td>0</td>\n",
       "      <td>0.0</td>\n",
       "      <td>1.0</td>\n",
       "      <td>...</td>\n",
       "      <td>0.0</td>\n",
       "      <td>0</td>\n",
       "      <td>0.0</td>\n",
       "      <td>0</td>\n",
       "      <td>0.0</td>\n",
       "      <td>5</td>\n",
       "      <td>0.0</td>\n",
       "      <td>0.0</td>\n",
       "      <td>0.0</td>\n",
       "      <td>25740.0</td>\n",
       "    </tr>\n",
       "    <tr>\n",
       "      <th>3</th>\n",
       "      <td>0</td>\n",
       "      <td>679</td>\n",
       "      <td>0.0</td>\n",
       "      <td>0.0</td>\n",
       "      <td>0.0</td>\n",
       "      <td>0</td>\n",
       "      <td>0</td>\n",
       "      <td>0</td>\n",
       "      <td>0.0</td>\n",
       "      <td>2.0</td>\n",
       "      <td>...</td>\n",
       "      <td>0.0</td>\n",
       "      <td>0</td>\n",
       "      <td>0.0</td>\n",
       "      <td>0</td>\n",
       "      <td>0.0</td>\n",
       "      <td>5</td>\n",
       "      <td>0.0</td>\n",
       "      <td>0.0</td>\n",
       "      <td>0.0</td>\n",
       "      <td>25740.0</td>\n",
       "    </tr>\n",
       "    <tr>\n",
       "      <th>4</th>\n",
       "      <td>0</td>\n",
       "      <td>679</td>\n",
       "      <td>0.0</td>\n",
       "      <td>0.0</td>\n",
       "      <td>0.0</td>\n",
       "      <td>0</td>\n",
       "      <td>0</td>\n",
       "      <td>0</td>\n",
       "      <td>0.0</td>\n",
       "      <td>3.0</td>\n",
       "      <td>...</td>\n",
       "      <td>0.0</td>\n",
       "      <td>0</td>\n",
       "      <td>0.0</td>\n",
       "      <td>0</td>\n",
       "      <td>0.0</td>\n",
       "      <td>5</td>\n",
       "      <td>0.0</td>\n",
       "      <td>0.0</td>\n",
       "      <td>0.0</td>\n",
       "      <td>25740.0</td>\n",
       "    </tr>\n",
       "  </tbody>\n",
       "</table>\n",
       "<p>5 rows × 45 columns</p>\n",
       "</div>"
      ],
      "text/plain": [
       "   default_tf  bsn_opr_month  comsale_join_date_opr_month  \\\n",
       "0           0            679                          0.0   \n",
       "1           0            679                          0.0   \n",
       "2           0            679                          0.0   \n",
       "3           0            679                          0.0   \n",
       "4           0            679                          0.0   \n",
       "\n",
       "   soven_cert_date_opr_month  mois_permission_date_opr_month  \\\n",
       "0                        0.0                             0.0   \n",
       "1                        0.0                             0.0   \n",
       "2                        0.0                             0.0   \n",
       "3                        0.0                             0.0   \n",
       "4                        0.0                             0.0   \n",
       "\n",
       "   inno_cert_date_cnt  mainbiz_cert_date_cnt  venture_cert_date_cnt  lab_cnt  \\\n",
       "0                   0                      0                      0      0.0   \n",
       "1                   0                      0                      0      0.0   \n",
       "2                   0                      0                      0      0.0   \n",
       "3                   0                      0                      0      0.0   \n",
       "4                   0                      0                      0      0.0   \n",
       "\n",
       "   stand_date_opr_month  ...  design_reg_num_opr_month  cprgt_cnt  \\\n",
       "0                  11.0  ...                       0.0          0   \n",
       "1                  12.0  ...                       0.0          0   \n",
       "2                   1.0  ...                       0.0          0   \n",
       "3                   2.0  ...                       0.0          0   \n",
       "4                   3.0  ...                       0.0          0   \n",
       "\n",
       "   copyright_reg_date_opr_month  article_cnt  article_ym_opr_month  total  \\\n",
       "0                           0.0            0                   0.0      5   \n",
       "1                           0.0            0                   0.0      5   \n",
       "2                           0.0            0                   0.0      5   \n",
       "3                           0.0            0                   0.0      5   \n",
       "4                           0.0            0                   0.0      5   \n",
       "\n",
       "   inv_opr_month  sum  investor_cnt  pblntf_pclnd  \n",
       "0            0.0  0.0           0.0       25740.0  \n",
       "1            0.0  0.0           0.0       25740.0  \n",
       "2            0.0  0.0           0.0       25740.0  \n",
       "3            0.0  0.0           0.0       25740.0  \n",
       "4            0.0  0.0           0.0       25740.0  \n",
       "\n",
       "[5 rows x 45 columns]"
      ]
     },
     "execution_count": 2,
     "metadata": {},
     "output_type": "execute_result"
    }
   ],
   "source": [
    "df=pd.read_csv('./csv/continuous_prep.csv', index_col =0)\n",
    "df.head()"
   ]
  },
  {
   "cell_type": "code",
   "execution_count": 3,
   "id": "5f3d8482",
   "metadata": {},
   "outputs": [],
   "source": [
    "target = df['default_tf']\n",
    "data = df.drop('default_tf',axis=1)"
   ]
  },
  {
   "cell_type": "markdown",
   "id": "75801cda",
   "metadata": {},
   "source": [
    "## split"
   ]
  },
  {
   "cell_type": "code",
   "execution_count": 4,
   "id": "b851cda4",
   "metadata": {},
   "outputs": [],
   "source": [
    "from sklearn.model_selection import train_test_split\n",
    "x_train, x_test , y_train, y_test = train_test_split(data, target, random_state = 77)"
   ]
  },
  {
   "cell_type": "markdown",
   "id": "ccf80731",
   "metadata": {},
   "source": [
    "## Scaler"
   ]
  },
  {
   "cell_type": "code",
   "execution_count": 5,
   "id": "9c634bfa",
   "metadata": {},
   "outputs": [],
   "source": [
    "from sklearn.preprocessing import StandardScaler\n",
    "\n",
    "# 변형 객체 생성\n",
    "std_scaler = StandardScaler()\n",
    "\n",
    "# 훈련데이터의 모수 분포 저장\n",
    "std_scaler.fit(x_train)\n",
    "\n",
    "# 훈련 데이터 스케일링\n",
    "x_train_scaled = std_scaler.transform(x_train)\n",
    "\n",
    "# 테스트 데이터의 스케일링\n",
    "x_test_scaled = std_scaler.transform(x_test)"
   ]
  },
  {
   "cell_type": "code",
   "execution_count": 11,
   "id": "b2fce74f",
   "metadata": {},
   "outputs": [],
   "source": [
    "x_train_scale = pd.DataFrame(x_train_scaled)\n",
    "x_train_scale.to_csv('./csv/x_train_scaled.csv')\n",
    "x_test_scale = pd.DataFrame(x_test_scaled)\n",
    "x_test_scale.to_csv('./csv/x_test_scaled.csv')"
   ]
  },
  {
   "cell_type": "markdown",
   "id": "d4fb17c3",
   "metadata": {},
   "source": [
    "## KNN"
   ]
  },
  {
   "cell_type": "code",
   "execution_count": 7,
   "id": "2ac3cba3",
   "metadata": {},
   "outputs": [],
   "source": [
    "from sklearn.neighbors import KNeighborsClassifier"
   ]
  },
  {
   "cell_type": "code",
   "execution_count": 13,
   "id": "833727f5",
   "metadata": {},
   "outputs": [
    {
     "data": {
      "image/png": "[encoded data removed]",
      "text/plain": [
       "<Figure size 432x288 with 1 Axes>"
      ]
     },
     "metadata": {
      "needs_background": "light"
     },
     "output_type": "display_data"
    }
   ],
   "source": [
    "import matplotlib.pyplot as plt\n",
    "k_list = range(1,101,10)\n",
    "accuracies = []\n",
    "for k in k_list:\n",
    "    classifier = KNeighborsClassifier(n_neighbors = k)\n",
    "    classifier.fit(x_train_scaled, y_train)\n",
    "    accuracies.append(classifier.score(x_test_scaled, y_test))\n",
    "    \n",
    "plt.plot(k_list, accuracies)\n",
    "plt.xlabel(\"k\")\n",
    "plt.ylabel(\"Validation Accuracy\")\n",
    "plt.title(\"KNN Classifier Accuracy\")\n",
    "plt.show()"
   ]
  },
  {
   "cell_type": "code",
   "execution_count": 14,
   "id": "f81944d5",
   "metadata": {},
   "outputs": [
    {
     "data": {
      "image/png": "[encoded data removed]",
      "text/plain": [
       "<Figure size 432x288 with 1 Axes>"
      ]
     },
     "metadata": {
      "needs_background": "light"
     },
     "output_type": "display_data"
    }
   ],
   "source": [
    "import matplotlib.pyplot as plt\n",
    "k_list = range(15,26,2)\n",
    "accuracies = []\n",
    "for k in k_list:\n",
    "    classifier = KNeighborsClassifier(n_neighbors = k)\n",
    "    classifier.fit(x_train_scaled, y_train)\n",
    "    accuracies.append(classifier.score(x_test_scaled, y_test))\n",
    "    \n",
    "plt.plot(k_list, accuracies)\n",
    "plt.xlabel(\"k\")\n",
    "plt.ylabel(\"Validation Accuracy\")\n",
    "plt.title(\"KNN Classifier Accuracy\")\n",
    "plt.show()"
   ]
  },
  {
   "cell_type": "markdown",
   "id": "2bc7824f",
   "metadata": {},
   "source": [
    "### 찾은 K값으로 KNN 돌려서 예측하기"
   ]
  },
  {
   "cell_type": "code",
   "execution_count": 15,
   "id": "d210cae7",
   "metadata": {},
   "outputs": [],
   "source": [
    "classifier = KNeighborsClassifier(n_neighbors = 17)"
   ]
  },
  {
   "cell_type": "code",
   "execution_count": 16,
   "id": "42c9ccf4",
   "metadata": {},
   "outputs": [
    {
     "data": {
      "text/plain": [
       "KNeighborsClassifier(n_neighbors=17)"
      ]
     },
     "execution_count": 16,
     "metadata": {},
     "output_type": "execute_result"
    }
   ],
   "source": [
    "classifier.fit(x_train_scaled, y_train)"
   ]
  },
  {
   "cell_type": "code",
   "execution_count": 18,
   "id": "2879942d",
   "metadata": {},
   "outputs": [],
   "source": [
    "pred = classifier.predict(x_test_scaled)"
   ]
  },
  {
   "cell_type": "code",
   "execution_count": 19,
   "id": "e4d82dd1",
   "metadata": {},
   "outputs": [
    {
     "data": {
      "text/plain": [
       "array([[58354,    23],\n",
       "       [ 1237,    54]], dtype=int64)"
      ]
     },
     "execution_count": 19,
     "metadata": {},
     "output_type": "execute_result"
    }
   ],
   "source": [
    "from sklearn.metrics import confusion_matrix\n",
    "cm= confusion_matrix(y_test, pred)\n",
    "cm"
   ]
  },
  {
   "cell_type": "code",
   "execution_count": null,
   "id": "66268d70",
   "metadata": {},
   "outputs": [],
   "source": []
  }
 ],
 "metadata": {
  "kernelspec": {
   "display_name": "Python 3 (ipykernel)",
   "language": "python",
   "name": "python3"
  },
  "language_info": {
   "codemirror_mode": {
    "name": "ipython",
    "version": 3
   },
   "file_extension": ".py",
   "mimetype": "text/x-python",
   "name": "python",
   "nbconvert_exporter": "python",
   "pygments_lexer": "ipython3",
   "version": "3.9.12"
  }
 },
 "nbformat": 4,
 "nbformat_minor": 5
}
