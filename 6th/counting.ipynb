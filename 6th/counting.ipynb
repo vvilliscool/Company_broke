{
 "cells": [
  {
   "cell_type": "code",
   "execution_count": 1,
   "metadata": {
    "id": "TFz8LgmFy8Eb"
   },
   "outputs": [],
   "source": [
    "import pandas as pd\n",
    "import numpy as np"
   ]
  },
  {
   "cell_type": "code",
   "execution_count": 2,
   "metadata": {
    "colab": {
     "base_uri": "https://localhost:8080/",
     "height": 352
    },
    "id": "53KxaHPdzivk",
    "outputId": "5929d5fa-8642-485d-de73-883e9aea2ce0"
   },
   "outputs": [],
   "source": [
    "df = pd.read_csv('./csv/con_result_10.csv', index_col=0)"
   ]
  },
  {
   "cell_type": "markdown",
   "metadata": {
    "id": "lkpTGG9k1GzT"
   },
   "source": [
    "# 10개 등급 나누기"
   ]
  },
  {
   "cell_type": "code",
   "execution_count": 3,
   "metadata": {
    "colab": {
     "base_uri": "https://localhost:8080/"
    },
    "id": "WBPiN8w9z5qJ",
    "outputId": "cb5272f0-5db2-45e6-be6d-31518850bbe8"
   },
   "outputs": [
    {
     "data": {
      "text/plain": [
       "0         1\n",
       "1         1\n",
       "2         1\n",
       "3         1\n",
       "4         1\n",
       "         ..\n",
       "238665    5\n",
       "238666    5\n",
       "238667    5\n",
       "238668    5\n",
       "238669    5\n",
       "Name: dot_sum, Length: 238670, dtype: category\n",
       "Categories (10, int64): [10 < 9 < 8 < 7 ... 4 < 3 < 2 < 1]"
      ]
     },
     "execution_count": 3,
     "metadata": {},
     "output_type": "execute_result"
    }
   ],
   "source": [
    "same_count = pd.qcut(df['dot_sum'],10, labels=[10,9,8,7,6,5,4,3,2,1])\n",
    "same_count"
   ]
  },
  {
   "cell_type": "code",
   "execution_count": 4,
   "metadata": {
    "colab": {
     "base_uri": "https://localhost:8080/"
    },
    "id": "8H3-HjSU0XXC",
    "outputId": "bc21de4a-2089-4c3c-85fd-c505b38754cc"
   },
   "outputs": [
    {
     "data": {
      "text/plain": [
       "count     238670\n",
       "unique        10\n",
       "top            2\n",
       "freq       23870\n",
       "Name: dot_sum, dtype: int64"
      ]
     },
     "execution_count": 4,
     "metadata": {},
     "output_type": "execute_result"
    }
   ],
   "source": [
    "same_count.describe()"
   ]
  },
  {
   "cell_type": "code",
   "execution_count": 5,
   "metadata": {
    "id": "XNeclwSt0eup"
   },
   "outputs": [],
   "source": [
    "df['grade'] = same_count"
   ]
  },
  {
   "cell_type": "markdown",
   "metadata": {
    "id": "u01aUbe_1Ja8"
   },
   "source": [
    "# 등급별 갯수 세기"
   ]
  },
  {
   "cell_type": "code",
   "execution_count": 6,
   "metadata": {
    "colab": {
     "base_uri": "https://localhost:8080/"
    },
    "id": "t4FCkoBH1DiA",
    "outputId": "0fd13711-ce6e-4071-cbcb-6f5c84468912"
   },
   "outputs": [
    {
     "name": "stdout",
     "output_type": "stream",
     "text": [
      "23583\n",
      "23585\n",
      "23551\n",
      "23559\n",
      "23502\n",
      "23473\n",
      "23479\n",
      "23360\n",
      "23155\n",
      "22377\n"
     ]
    }
   ],
   "source": [
    "for i in range (1,11):\n",
    "  dff = df[df['grade']==i]\n",
    "  ddf = dff[dff['target']==0]\n",
    "  print(ddf['grade'].count())"
   ]
  },
  {
   "cell_type": "code",
   "execution_count": 7,
   "metadata": {
    "colab": {
     "base_uri": "https://localhost:8080/"
    },
    "id": "LNz_WVuwQy6x",
    "outputId": "991cd3f1-ff3d-43a2-83df-4401f9955377"
   },
   "outputs": [
    {
     "name": "stdout",
     "output_type": "stream",
     "text": [
      "281\n",
      "285\n",
      "316\n",
      "308\n",
      "365\n",
      "392\n",
      "390\n",
      "507\n",
      "712\n",
      "1490\n"
     ]
    }
   ],
   "source": [
    "for i in range (1,11):\n",
    "  dff = df[df['grade']==i]\n",
    "  ddf = dff[dff['target']==1]\n",
    "  print(ddf['grade'].count())"
   ]
  },
  {
   "cell_type": "code",
   "execution_count": null,
   "metadata": {},
   "outputs": [],
   "source": []
  }
 ],
 "metadata": {
  "colab": {
   "collapsed_sections": [],
   "provenance": []
  },
  "kernelspec": {
   "display_name": "Python 3 (ipykernel)",
   "language": "python",
   "name": "python3"
  },
  "language_info": {
   "codemirror_mode": {
    "name": "ipython",
    "version": 3
   },
   "file_extension": ".py",
   "mimetype": "text/x-python",
   "name": "python",
   "nbconvert_exporter": "python",
   "pygments_lexer": "ipython3",
   "version": "3.9.12"
  }
 },
 "nbformat": 4,
 "nbformat_minor": 1
}
