{
 "cells": [
  {
   "cell_type": "code",
   "execution_count": 1,
   "metadata": {
    "id": "TFz8LgmFy8Eb"
   },
   "outputs": [],
   "source": [
    "import pandas as pd\n",
    "import numpy as np"
   ]
  },
  {
   "cell_type": "code",
   "execution_count": 2,
   "metadata": {
    "colab": {
     "base_uri": "https://localhost:8080/",
     "height": 352
    },
    "id": "53KxaHPdzivk",
    "outputId": "5929d5fa-8642-485d-de73-883e9aea2ce0"
   },
   "outputs": [
    {
     "data": {
      "text/html": [
       "<div>\n",
       "<style scoped>\n",
       "    .dataframe tbody tr th:only-of-type {\n",
       "        vertical-align: middle;\n",
       "    }\n",
       "\n",
       "    .dataframe tbody tr th {\n",
       "        vertical-align: top;\n",
       "    }\n",
       "\n",
       "    .dataframe thead th {\n",
       "        text-align: right;\n",
       "    }\n",
       "</style>\n",
       "<table border=\"1\" class=\"dataframe\">\n",
       "  <thead>\n",
       "    <tr style=\"text-align: right;\">\n",
       "      <th></th>\n",
       "      <th>id_seq</th>\n",
       "      <th>default_tf</th>\n",
       "      <th>ceo_name_cnt</th>\n",
       "      <th>bsn_opr_month</th>\n",
       "      <th>count</th>\n",
       "      <th>inno_cert_date_cnt</th>\n",
       "      <th>venture_cert_date_cnt</th>\n",
       "      <th>exporter_tf</th>\n",
       "      <th>importer_tf</th>\n",
       "      <th>research_lab_seq_tf</th>\n",
       "      <th>...</th>\n",
       "      <th>research_lab_type_전담부서, 출판, 영상, 방송통신 및 정보서비스</th>\n",
       "      <th>research_lab_type_전담부서, 화학</th>\n",
       "      <th>research_lab_type_전담부서, 환경</th>\n",
       "      <th>research_lab_type_전문, 과학 및 기술 서비스</th>\n",
       "      <th>research_lab_type_정보처리</th>\n",
       "      <th>research_lab_type_출판, 영상, 방송통신 및 정보서비스</th>\n",
       "      <th>research_lab_type_하수·폐기물처리, 원료재생 및 환경복원</th>\n",
       "      <th>research_lab_type_화학</th>\n",
       "      <th>research_lab_type_환경</th>\n",
       "      <th>dot_sum</th>\n",
       "    </tr>\n",
       "  </thead>\n",
       "  <tbody>\n",
       "    <tr>\n",
       "      <th>1</th>\n",
       "      <td>769252</td>\n",
       "      <td>0</td>\n",
       "      <td>1</td>\n",
       "      <td>6.522093</td>\n",
       "      <td>0</td>\n",
       "      <td>0</td>\n",
       "      <td>0</td>\n",
       "      <td>0</td>\n",
       "      <td>0</td>\n",
       "      <td>0</td>\n",
       "      <td>...</td>\n",
       "      <td>0</td>\n",
       "      <td>0</td>\n",
       "      <td>0</td>\n",
       "      <td>0</td>\n",
       "      <td>0</td>\n",
       "      <td>0</td>\n",
       "      <td>0</td>\n",
       "      <td>0</td>\n",
       "      <td>0</td>\n",
       "      <td>230.840649</td>\n",
       "    </tr>\n",
       "    <tr>\n",
       "      <th>2</th>\n",
       "      <td>769252</td>\n",
       "      <td>0</td>\n",
       "      <td>1</td>\n",
       "      <td>6.522093</td>\n",
       "      <td>0</td>\n",
       "      <td>0</td>\n",
       "      <td>0</td>\n",
       "      <td>0</td>\n",
       "      <td>0</td>\n",
       "      <td>0</td>\n",
       "      <td>...</td>\n",
       "      <td>0</td>\n",
       "      <td>0</td>\n",
       "      <td>0</td>\n",
       "      <td>0</td>\n",
       "      <td>0</td>\n",
       "      <td>0</td>\n",
       "      <td>0</td>\n",
       "      <td>0</td>\n",
       "      <td>0</td>\n",
       "      <td>230.840649</td>\n",
       "    </tr>\n",
       "    <tr>\n",
       "      <th>3</th>\n",
       "      <td>769252</td>\n",
       "      <td>0</td>\n",
       "      <td>1</td>\n",
       "      <td>6.522093</td>\n",
       "      <td>0</td>\n",
       "      <td>0</td>\n",
       "      <td>0</td>\n",
       "      <td>0</td>\n",
       "      <td>0</td>\n",
       "      <td>0</td>\n",
       "      <td>...</td>\n",
       "      <td>0</td>\n",
       "      <td>0</td>\n",
       "      <td>0</td>\n",
       "      <td>0</td>\n",
       "      <td>0</td>\n",
       "      <td>0</td>\n",
       "      <td>0</td>\n",
       "      <td>0</td>\n",
       "      <td>0</td>\n",
       "      <td>230.840649</td>\n",
       "    </tr>\n",
       "    <tr>\n",
       "      <th>4</th>\n",
       "      <td>769252</td>\n",
       "      <td>0</td>\n",
       "      <td>1</td>\n",
       "      <td>6.522093</td>\n",
       "      <td>0</td>\n",
       "      <td>0</td>\n",
       "      <td>0</td>\n",
       "      <td>0</td>\n",
       "      <td>0</td>\n",
       "      <td>0</td>\n",
       "      <td>...</td>\n",
       "      <td>0</td>\n",
       "      <td>0</td>\n",
       "      <td>0</td>\n",
       "      <td>0</td>\n",
       "      <td>0</td>\n",
       "      <td>0</td>\n",
       "      <td>0</td>\n",
       "      <td>0</td>\n",
       "      <td>0</td>\n",
       "      <td>230.840649</td>\n",
       "    </tr>\n",
       "    <tr>\n",
       "      <th>5</th>\n",
       "      <td>769252</td>\n",
       "      <td>0</td>\n",
       "      <td>1</td>\n",
       "      <td>6.522093</td>\n",
       "      <td>0</td>\n",
       "      <td>0</td>\n",
       "      <td>0</td>\n",
       "      <td>0</td>\n",
       "      <td>0</td>\n",
       "      <td>0</td>\n",
       "      <td>...</td>\n",
       "      <td>0</td>\n",
       "      <td>0</td>\n",
       "      <td>0</td>\n",
       "      <td>0</td>\n",
       "      <td>0</td>\n",
       "      <td>0</td>\n",
       "      <td>0</td>\n",
       "      <td>0</td>\n",
       "      <td>0</td>\n",
       "      <td>230.840649</td>\n",
       "    </tr>\n",
       "  </tbody>\n",
       "</table>\n",
       "<p>5 rows × 1537 columns</p>\n",
       "</div>"
      ],
      "text/plain": [
       "   id_seq  default_tf  ceo_name_cnt  bsn_opr_month  count  inno_cert_date_cnt  \\\n",
       "1  769252           0             1       6.522093      0                   0   \n",
       "2  769252           0             1       6.522093      0                   0   \n",
       "3  769252           0             1       6.522093      0                   0   \n",
       "4  769252           0             1       6.522093      0                   0   \n",
       "5  769252           0             1       6.522093      0                   0   \n",
       "\n",
       "   venture_cert_date_cnt  exporter_tf  importer_tf  research_lab_seq_tf  ...  \\\n",
       "1                      0            0            0                    0  ...   \n",
       "2                      0            0            0                    0  ...   \n",
       "3                      0            0            0                    0  ...   \n",
       "4                      0            0            0                    0  ...   \n",
       "5                      0            0            0                    0  ...   \n",
       "\n",
       "   research_lab_type_전담부서, 출판, 영상, 방송통신 및 정보서비스  research_lab_type_전담부서, 화학  \\\n",
       "1                                             0                           0   \n",
       "2                                             0                           0   \n",
       "3                                             0                           0   \n",
       "4                                             0                           0   \n",
       "5                                             0                           0   \n",
       "\n",
       "   research_lab_type_전담부서, 환경  research_lab_type_전문, 과학 및 기술 서비스  \\\n",
       "1                           0                                  0   \n",
       "2                           0                                  0   \n",
       "3                           0                                  0   \n",
       "4                           0                                  0   \n",
       "5                           0                                  0   \n",
       "\n",
       "   research_lab_type_정보처리  research_lab_type_출판, 영상, 방송통신 및 정보서비스  \\\n",
       "1                       0                                       0   \n",
       "2                       0                                       0   \n",
       "3                       0                                       0   \n",
       "4                       0                                       0   \n",
       "5                       0                                       0   \n",
       "\n",
       "   research_lab_type_하수·폐기물처리, 원료재생 및 환경복원  research_lab_type_화학  \\\n",
       "1                                        0                     0   \n",
       "2                                        0                     0   \n",
       "3                                        0                     0   \n",
       "4                                        0                     0   \n",
       "5                                        0                     0   \n",
       "\n",
       "   research_lab_type_환경     dot_sum  \n",
       "1                     0  230.840649  \n",
       "2                     0  230.840649  \n",
       "3                     0  230.840649  \n",
       "4                     0  230.840649  \n",
       "5                     0  230.840649  \n",
       "\n",
       "[5 rows x 1537 columns]"
      ]
     },
     "execution_count": 2,
     "metadata": {},
     "output_type": "execute_result"
    }
   ],
   "source": [
    "df = pd.read_csv('./cat_new_track3-3.csv', index_col=0)\n",
    "df.head()"
   ]
  },
  {
   "cell_type": "markdown",
   "metadata": {
    "id": "lkpTGG9k1GzT"
   },
   "source": [
    "# 10개 등급 나누기"
   ]
  },
  {
   "cell_type": "code",
   "execution_count": 3,
   "metadata": {
    "colab": {
     "base_uri": "https://localhost:8080/"
    },
    "id": "WBPiN8w9z5qJ",
    "outputId": "cb5272f0-5db2-45e6-be6d-31518850bbe8"
   },
   "outputs": [
    {
     "data": {
      "text/plain": [
       "1         3\n",
       "2         3\n",
       "3         3\n",
       "4         3\n",
       "5         3\n",
       "         ..\n",
       "238666    3\n",
       "238667    3\n",
       "238668    3\n",
       "238669    3\n",
       "238670    3\n",
       "Name: dot_sum, Length: 238670, dtype: category\n",
       "Categories (10, int64): [10 < 9 < 8 < 7 ... 4 < 3 < 2 < 1]"
      ]
     },
     "execution_count": 3,
     "metadata": {},
     "output_type": "execute_result"
    }
   ],
   "source": [
    "same_count = pd.qcut(df['dot_sum'],10, labels=[10,9,8,7,6,5,4,3,2,1])\n",
    "same_count"
   ]
  },
  {
   "cell_type": "code",
   "execution_count": 4,
   "metadata": {
    "colab": {
     "base_uri": "https://localhost:8080/"
    },
    "id": "8H3-HjSU0XXC",
    "outputId": "bc21de4a-2089-4c3c-85fd-c505b38754cc"
   },
   "outputs": [
    {
     "data": {
      "text/plain": [
       "count     238670\n",
       "unique        10\n",
       "top            7\n",
       "freq       23870\n",
       "Name: dot_sum, dtype: int64"
      ]
     },
     "execution_count": 4,
     "metadata": {},
     "output_type": "execute_result"
    }
   ],
   "source": [
    "same_count.describe()"
   ]
  },
  {
   "cell_type": "code",
   "execution_count": 5,
   "metadata": {
    "id": "XNeclwSt0eup"
   },
   "outputs": [],
   "source": [
    "df['grade'] = same_count"
   ]
  },
  {
   "cell_type": "markdown",
   "metadata": {
    "id": "u01aUbe_1Ja8"
   },
   "source": [
    "# 등급별 갯수 세기(구간당 23868개 정도)"
   ]
  },
  {
   "cell_type": "code",
   "execution_count": 6,
   "metadata": {
    "colab": {
     "base_uri": "https://localhost:8080/"
    },
    "id": "t4FCkoBH1DiA",
    "outputId": "0fd13711-ce6e-4071-cbcb-6f5c84468912"
   },
   "outputs": [
    {
     "name": "stdout",
     "output_type": "stream",
     "text": [
      "23722\n",
      "23718\n",
      "23587\n",
      "23596\n",
      "23529\n",
      "23500\n",
      "23315\n",
      "23199\n",
      "22888\n",
      "22570\n"
     ]
    }
   ],
   "source": [
    "for i in range (1,11):\n",
    "  dff = df[df['grade']==i]\n",
    "  ddf = dff[dff['default_tf']==0]\n",
    "  print(ddf['grade'].count())"
   ]
  },
  {
   "cell_type": "code",
   "execution_count": 7,
   "metadata": {
    "colab": {
     "base_uri": "https://localhost:8080/"
    },
    "id": "LNz_WVuwQy6x",
    "outputId": "991cd3f1-ff3d-43a2-83df-4401f9955377"
   },
   "outputs": [
    {
     "name": "stdout",
     "output_type": "stream",
     "text": [
      "142\n",
      "152\n",
      "280\n",
      "271\n",
      "338\n",
      "364\n",
      "555\n",
      "668\n",
      "979\n",
      "1297\n"
     ]
    }
   ],
   "source": [
    "for i in range (1,11):\n",
    "  dff = df[df['grade']==i]\n",
    "  ddf = dff[dff['default_tf']==1]\n",
    "  print(ddf['grade'].count())"
   ]
  },
  {
   "cell_type": "code",
   "execution_count": null,
   "metadata": {},
   "outputs": [],
   "source": []
  }
 ],
 "metadata": {
  "colab": {
   "collapsed_sections": [],
   "provenance": []
  },
  "kernelspec": {
   "display_name": "Python 3 (ipykernel)",
   "language": "python",
   "name": "python3"
  },
  "language_info": {
   "codemirror_mode": {
    "name": "ipython",
    "version": 3
   },
   "file_extension": ".py",
   "mimetype": "text/x-python",
   "name": "python",
   "nbconvert_exporter": "python",
   "pygments_lexer": "ipython3",
   "version": "3.9.12"
  }
 },
 "nbformat": 4,
 "nbformat_minor": 1
}
