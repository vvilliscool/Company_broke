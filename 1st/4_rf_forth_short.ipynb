{
  "cells": [
    {
      "cell_type": "markdown",
      "metadata": {
        "id": "cMilqda31_o_"
      },
      "source": [
        "# importing"
      ]
    },
    {
      "cell_type": "code",
      "execution_count": 1,
      "metadata": {
        "id": "f4b88df6"
      },
      "outputs": [],
      "source": [
        "import numpy as np\n",
        "import pandas as pd\n",
        "\n",
        "from sklearn.model_selection import train_test_split, cross_val_score, GridSearchCV\n",
        "from sklearn.metrics import accuracy_score, confusion_matrix, classification_report, roc_curve, roc_auc_score, f1_score, recall_score, precision_score\n",
        "from sklearn.preprocessing import LabelEncoder, OneHotEncoder, StandardScaler, MinMaxScaler\n",
        "\n",
        "from sklearn.neighbors import KNeighborsClassifier\n",
        "from sklearn.naive_bayes import GaussianNB, BernoulliNB, MultinomialNB, CategoricalNB"
      ]
    },
    {
      "cell_type": "code",
      "execution_count": 2,
      "metadata": {
        "id": "6fd1f33a"
      },
      "outputs": [],
      "source": [
        "from sklearn.neighbors import KNeighborsClassifier\n",
        "\n",
        "from sklearn.linear_model import LinearRegression\n",
        "\n",
        "from sklearn.linear_model import LogisticRegression\n",
        "from sklearn.svm import LinearSVC\n",
        "from sklearn.svm import SVR, SVC\n",
        "from sklearn.tree import DecisionTreeClassifier\n",
        "from sklearn.ensemble import RandomForestClassifier\n",
        "from sklearn.ensemble import GradientBoostingClassifier\n",
        "from sklearn.ensemble import VotingClassifier\n",
        "\n",
        "import statsmodels.api as sm\n",
        "\n",
        "from sklearn.tree import export_graphviz\n",
        "\n",
        "import joblib\n"
      ]
    },
    {
      "cell_type": "markdown",
      "metadata": {
        "id": "E5qJoal5JvjU"
      },
      "source": [
        "# Reading data"
      ]
    },
    {
      "cell_type": "code",
      "source": [
        "from google.colab import drive\n",
        "drive.mount('/content/drive')"
      ],
      "metadata": {
        "colab": {
          "base_uri": "https://localhost:8080/"
        },
        "id": "r8hcaqXlIC4C",
        "outputId": "f2980002-effd-4946-cefa-44446eb5d557"
      },
      "execution_count": 3,
      "outputs": [
        {
          "output_type": "stream",
          "name": "stdout",
          "text": [
            "Mounted at /content/drive\n"
          ]
        }
      ]
    },
    {
      "cell_type": "code",
      "execution_count": 7,
      "metadata": {
        "id": "N310JNpPJuD_"
      },
      "outputs": [],
      "source": [
        "train = pd.read_csv('/content/drive/MyDrive/antock/bank_project2/train_short.csv', index_col=0)\n",
        "test = pd.read_csv('/content/drive/MyDrive/antock/bank_project2/test_short.csv', index_col=0)"
      ]
    },
    {
      "cell_type": "code",
      "execution_count": 8,
      "metadata": {
        "id": "x-Jn5w1BZA-d"
      },
      "outputs": [],
      "source": [
        "# df['base_ym'] = pd.to_datetime(df['base_ym'])"
      ]
    },
    {
      "cell_type": "code",
      "execution_count": 9,
      "metadata": {
        "id": "hMwSw6mfZJL1"
      },
      "outputs": [],
      "source": [
        "y_train = train['default_tf']\n",
        "x_train = train.drop('default_tf', axis=1)\n",
        "\n",
        "y_test = test['default_tf']\n",
        "x_test = test.drop('default_tf', axis=1)"
      ]
    },
    {
      "cell_type": "code",
      "execution_count": null,
      "metadata": {
        "id": "kfYrt9U0ZY7O"
      },
      "outputs": [],
      "source": [
        "# x_train = pd.get_dummies(x_train)\n",
        "# x_test = pd.get_dummies(x_test)"
      ]
    },
    {
      "cell_type": "code",
      "execution_count": null,
      "metadata": {
        "collapsed": true,
        "id": "6YXwPYU6ahwx",
        "outputId": "f32295ae-9a91-4e79-f24e-18d67426e35c"
      },
      "outputs": [
        {
          "ename": "KeyError",
          "evalue": "\"['base_ym'] not found in axis\"",
          "output_type": "error",
          "traceback": [
            "\u001b[1;31m---------------------------------------------------------------------------\u001b[0m",
            "\u001b[1;31mKeyError\u001b[0m                                  Traceback (most recent call last)",
            "Input \u001b[1;32mIn [6]\u001b[0m, in \u001b[0;36m<cell line: 1>\u001b[1;34m()\u001b[0m\n\u001b[1;32m----> 1\u001b[0m x_train \u001b[38;5;241m=\u001b[39m \u001b[43mx_train\u001b[49m\u001b[38;5;241;43m.\u001b[39;49m\u001b[43mdrop\u001b[49m\u001b[43m(\u001b[49m\u001b[38;5;124;43m'\u001b[39;49m\u001b[38;5;124;43mbase_ym\u001b[39;49m\u001b[38;5;124;43m'\u001b[39;49m\u001b[43m,\u001b[49m\u001b[43m \u001b[49m\u001b[43maxis\u001b[49m\u001b[38;5;241;43m=\u001b[39;49m\u001b[38;5;241;43m1\u001b[39;49m\u001b[43m)\u001b[49m\n\u001b[0;32m      2\u001b[0m x_test \u001b[38;5;241m=\u001b[39m x_test\u001b[38;5;241m.\u001b[39mdrop(\u001b[38;5;124m'\u001b[39m\u001b[38;5;124mbase_ym\u001b[39m\u001b[38;5;124m'\u001b[39m, axis\u001b[38;5;241m=\u001b[39m\u001b[38;5;241m1\u001b[39m)\n",
            "File \u001b[1;32m~\\anaconda3\\lib\\site-packages\\pandas\\util\\_decorators.py:311\u001b[0m, in \u001b[0;36mdeprecate_nonkeyword_arguments.<locals>.decorate.<locals>.wrapper\u001b[1;34m(*args, **kwargs)\u001b[0m\n\u001b[0;32m    305\u001b[0m \u001b[38;5;28;01mif\u001b[39;00m \u001b[38;5;28mlen\u001b[39m(args) \u001b[38;5;241m>\u001b[39m num_allow_args:\n\u001b[0;32m    306\u001b[0m     warnings\u001b[38;5;241m.\u001b[39mwarn(\n\u001b[0;32m    307\u001b[0m         msg\u001b[38;5;241m.\u001b[39mformat(arguments\u001b[38;5;241m=\u001b[39marguments),\n\u001b[0;32m    308\u001b[0m         \u001b[38;5;167;01mFutureWarning\u001b[39;00m,\n\u001b[0;32m    309\u001b[0m         stacklevel\u001b[38;5;241m=\u001b[39mstacklevel,\n\u001b[0;32m    310\u001b[0m     )\n\u001b[1;32m--> 311\u001b[0m \u001b[38;5;28;01mreturn\u001b[39;00m func(\u001b[38;5;241m*\u001b[39margs, \u001b[38;5;241m*\u001b[39m\u001b[38;5;241m*\u001b[39mkwargs)\n",
            "File \u001b[1;32m~\\anaconda3\\lib\\site-packages\\pandas\\core\\frame.py:4954\u001b[0m, in \u001b[0;36mDataFrame.drop\u001b[1;34m(self, labels, axis, index, columns, level, inplace, errors)\u001b[0m\n\u001b[0;32m   4806\u001b[0m \u001b[38;5;129m@deprecate_nonkeyword_arguments\u001b[39m(version\u001b[38;5;241m=\u001b[39m\u001b[38;5;28;01mNone\u001b[39;00m, allowed_args\u001b[38;5;241m=\u001b[39m[\u001b[38;5;124m\"\u001b[39m\u001b[38;5;124mself\u001b[39m\u001b[38;5;124m\"\u001b[39m, \u001b[38;5;124m\"\u001b[39m\u001b[38;5;124mlabels\u001b[39m\u001b[38;5;124m\"\u001b[39m])\n\u001b[0;32m   4807\u001b[0m \u001b[38;5;28;01mdef\u001b[39;00m \u001b[38;5;21mdrop\u001b[39m(\n\u001b[0;32m   4808\u001b[0m     \u001b[38;5;28mself\u001b[39m,\n\u001b[1;32m   (...)\u001b[0m\n\u001b[0;32m   4815\u001b[0m     errors: \u001b[38;5;28mstr\u001b[39m \u001b[38;5;241m=\u001b[39m \u001b[38;5;124m\"\u001b[39m\u001b[38;5;124mraise\u001b[39m\u001b[38;5;124m\"\u001b[39m,\n\u001b[0;32m   4816\u001b[0m ):\n\u001b[0;32m   4817\u001b[0m     \u001b[38;5;124;03m\"\"\"\u001b[39;00m\n\u001b[0;32m   4818\u001b[0m \u001b[38;5;124;03m    Drop specified labels from rows or columns.\u001b[39;00m\n\u001b[0;32m   4819\u001b[0m \n\u001b[1;32m   (...)\u001b[0m\n\u001b[0;32m   4952\u001b[0m \u001b[38;5;124;03m            weight  1.0     0.8\u001b[39;00m\n\u001b[0;32m   4953\u001b[0m \u001b[38;5;124;03m    \"\"\"\u001b[39;00m\n\u001b[1;32m-> 4954\u001b[0m     \u001b[38;5;28;01mreturn\u001b[39;00m \u001b[38;5;28;43msuper\u001b[39;49m\u001b[43m(\u001b[49m\u001b[43m)\u001b[49m\u001b[38;5;241;43m.\u001b[39;49m\u001b[43mdrop\u001b[49m\u001b[43m(\u001b[49m\n\u001b[0;32m   4955\u001b[0m \u001b[43m        \u001b[49m\u001b[43mlabels\u001b[49m\u001b[38;5;241;43m=\u001b[39;49m\u001b[43mlabels\u001b[49m\u001b[43m,\u001b[49m\n\u001b[0;32m   4956\u001b[0m \u001b[43m        \u001b[49m\u001b[43maxis\u001b[49m\u001b[38;5;241;43m=\u001b[39;49m\u001b[43maxis\u001b[49m\u001b[43m,\u001b[49m\n\u001b[0;32m   4957\u001b[0m \u001b[43m        \u001b[49m\u001b[43mindex\u001b[49m\u001b[38;5;241;43m=\u001b[39;49m\u001b[43mindex\u001b[49m\u001b[43m,\u001b[49m\n\u001b[0;32m   4958\u001b[0m \u001b[43m        \u001b[49m\u001b[43mcolumns\u001b[49m\u001b[38;5;241;43m=\u001b[39;49m\u001b[43mcolumns\u001b[49m\u001b[43m,\u001b[49m\n\u001b[0;32m   4959\u001b[0m \u001b[43m        \u001b[49m\u001b[43mlevel\u001b[49m\u001b[38;5;241;43m=\u001b[39;49m\u001b[43mlevel\u001b[49m\u001b[43m,\u001b[49m\n\u001b[0;32m   4960\u001b[0m \u001b[43m        \u001b[49m\u001b[43minplace\u001b[49m\u001b[38;5;241;43m=\u001b[39;49m\u001b[43minplace\u001b[49m\u001b[43m,\u001b[49m\n\u001b[0;32m   4961\u001b[0m \u001b[43m        \u001b[49m\u001b[43merrors\u001b[49m\u001b[38;5;241;43m=\u001b[39;49m\u001b[43merrors\u001b[49m\u001b[43m,\u001b[49m\n\u001b[0;32m   4962\u001b[0m \u001b[43m    \u001b[49m\u001b[43m)\u001b[49m\n",
            "File \u001b[1;32m~\\anaconda3\\lib\\site-packages\\pandas\\core\\generic.py:4267\u001b[0m, in \u001b[0;36mNDFrame.drop\u001b[1;34m(self, labels, axis, index, columns, level, inplace, errors)\u001b[0m\n\u001b[0;32m   4265\u001b[0m \u001b[38;5;28;01mfor\u001b[39;00m axis, labels \u001b[38;5;129;01min\u001b[39;00m axes\u001b[38;5;241m.\u001b[39mitems():\n\u001b[0;32m   4266\u001b[0m     \u001b[38;5;28;01mif\u001b[39;00m labels \u001b[38;5;129;01mis\u001b[39;00m \u001b[38;5;129;01mnot\u001b[39;00m \u001b[38;5;28;01mNone\u001b[39;00m:\n\u001b[1;32m-> 4267\u001b[0m         obj \u001b[38;5;241m=\u001b[39m \u001b[43mobj\u001b[49m\u001b[38;5;241;43m.\u001b[39;49m\u001b[43m_drop_axis\u001b[49m\u001b[43m(\u001b[49m\u001b[43mlabels\u001b[49m\u001b[43m,\u001b[49m\u001b[43m \u001b[49m\u001b[43maxis\u001b[49m\u001b[43m,\u001b[49m\u001b[43m \u001b[49m\u001b[43mlevel\u001b[49m\u001b[38;5;241;43m=\u001b[39;49m\u001b[43mlevel\u001b[49m\u001b[43m,\u001b[49m\u001b[43m \u001b[49m\u001b[43merrors\u001b[49m\u001b[38;5;241;43m=\u001b[39;49m\u001b[43merrors\u001b[49m\u001b[43m)\u001b[49m\n\u001b[0;32m   4269\u001b[0m \u001b[38;5;28;01mif\u001b[39;00m inplace:\n\u001b[0;32m   4270\u001b[0m     \u001b[38;5;28mself\u001b[39m\u001b[38;5;241m.\u001b[39m_update_inplace(obj)\n",
            "File \u001b[1;32m~\\anaconda3\\lib\\site-packages\\pandas\\core\\generic.py:4311\u001b[0m, in \u001b[0;36mNDFrame._drop_axis\u001b[1;34m(self, labels, axis, level, errors, consolidate, only_slice)\u001b[0m\n\u001b[0;32m   4309\u001b[0m         new_axis \u001b[38;5;241m=\u001b[39m axis\u001b[38;5;241m.\u001b[39mdrop(labels, level\u001b[38;5;241m=\u001b[39mlevel, errors\u001b[38;5;241m=\u001b[39merrors)\n\u001b[0;32m   4310\u001b[0m     \u001b[38;5;28;01melse\u001b[39;00m:\n\u001b[1;32m-> 4311\u001b[0m         new_axis \u001b[38;5;241m=\u001b[39m \u001b[43maxis\u001b[49m\u001b[38;5;241;43m.\u001b[39;49m\u001b[43mdrop\u001b[49m\u001b[43m(\u001b[49m\u001b[43mlabels\u001b[49m\u001b[43m,\u001b[49m\u001b[43m \u001b[49m\u001b[43merrors\u001b[49m\u001b[38;5;241;43m=\u001b[39;49m\u001b[43merrors\u001b[49m\u001b[43m)\u001b[49m\n\u001b[0;32m   4312\u001b[0m     indexer \u001b[38;5;241m=\u001b[39m axis\u001b[38;5;241m.\u001b[39mget_indexer(new_axis)\n\u001b[0;32m   4314\u001b[0m \u001b[38;5;66;03m# Case for non-unique axis\u001b[39;00m\n\u001b[0;32m   4315\u001b[0m \u001b[38;5;28;01melse\u001b[39;00m:\n",
            "File \u001b[1;32m~\\anaconda3\\lib\\site-packages\\pandas\\core\\indexes\\base.py:6644\u001b[0m, in \u001b[0;36mIndex.drop\u001b[1;34m(self, labels, errors)\u001b[0m\n\u001b[0;32m   6642\u001b[0m \u001b[38;5;28;01mif\u001b[39;00m mask\u001b[38;5;241m.\u001b[39many():\n\u001b[0;32m   6643\u001b[0m     \u001b[38;5;28;01mif\u001b[39;00m errors \u001b[38;5;241m!=\u001b[39m \u001b[38;5;124m\"\u001b[39m\u001b[38;5;124mignore\u001b[39m\u001b[38;5;124m\"\u001b[39m:\n\u001b[1;32m-> 6644\u001b[0m         \u001b[38;5;28;01mraise\u001b[39;00m \u001b[38;5;167;01mKeyError\u001b[39;00m(\u001b[38;5;124mf\u001b[39m\u001b[38;5;124m\"\u001b[39m\u001b[38;5;132;01m{\u001b[39;00m\u001b[38;5;28mlist\u001b[39m(labels[mask])\u001b[38;5;132;01m}\u001b[39;00m\u001b[38;5;124m not found in axis\u001b[39m\u001b[38;5;124m\"\u001b[39m)\n\u001b[0;32m   6645\u001b[0m     indexer \u001b[38;5;241m=\u001b[39m indexer[\u001b[38;5;241m~\u001b[39mmask]\n\u001b[0;32m   6646\u001b[0m \u001b[38;5;28;01mreturn\u001b[39;00m \u001b[38;5;28mself\u001b[39m\u001b[38;5;241m.\u001b[39mdelete(indexer)\n",
            "\u001b[1;31mKeyError\u001b[0m: \"['base_ym'] not found in axis\""
          ]
        }
      ],
      "source": [
        "# x_train = x_train.drop('base_ym', axis=1)\n",
        "# x_test = x_test.drop('base_ym', axis=1)"
      ]
    },
    {
      "cell_type": "markdown",
      "metadata": {
        "id": "QjtWCGlMZkm1"
      },
      "source": [
        "# train_test_split"
      ]
    },
    {
      "cell_type": "code",
      "execution_count": null,
      "metadata": {
        "id": "EkrzGJALZfvd"
      },
      "outputs": [],
      "source": [
        "# from sklearn.model_selection import train_test_split\n",
        "# x_train, x_test, y_train, y_test = train_test_split(data, target, shuffle=True, stratify=target, random_state=34)"
      ]
    },
    {
      "cell_type": "code",
      "execution_count": null,
      "metadata": {
        "id": "xEdVEHCUecKl"
      },
      "outputs": [],
      "source": [
        "# x_train = x_train.drop(['ibk_seq','id_seq'], axis=1)\n",
        "# x_test = x_test.drop(['ibk_seq','id_seq'], axis=1)"
      ]
    },
    {
      "cell_type": "markdown",
      "metadata": {
        "id": "NV8Zlg4laMMj"
      },
      "source": [
        "# RF"
      ]
    },
    {
      "cell_type": "code",
      "execution_count": 10,
      "metadata": {
        "id": "jFS2qVAEZ7q9"
      },
      "outputs": [],
      "source": [
        "from sklearn.ensemble import RandomForestClassifier\n",
        "rf = RandomForestClassifier()\n",
        "# rf= RandomForestClassifier(class_weight={0:1500, 1:10000000}).fit(X_train, y_train)"
      ]
    },
    {
      "cell_type": "code",
      "execution_count": 11,
      "metadata": {
        "colab": {
          "base_uri": "https://localhost:8080/"
        },
        "id": "_pYXtQyuaQdl",
        "outputId": "e6dac5e6-2a8b-4732-9cfa-c3a58329e2be"
      },
      "outputs": [
        {
          "output_type": "execute_result",
          "data": {
            "text/plain": [
              "RandomForestClassifier()"
            ]
          },
          "metadata": {},
          "execution_count": 11
        }
      ],
      "source": [
        "rf.fit(x_train, y_train)"
      ]
    },
    {
      "cell_type": "code",
      "execution_count": 12,
      "metadata": {
        "colab": {
          "base_uri": "https://localhost:8080/"
        },
        "id": "e2guIPIWaYPd",
        "outputId": "6588915d-f899-4751-feaf-d0b5875e3324"
      },
      "outputs": [
        {
          "output_type": "execute_result",
          "data": {
            "text/plain": [
              "array([[57075,   207],\n",
              "       [ 1254,    18]])"
            ]
          },
          "metadata": {},
          "execution_count": 12
        }
      ],
      "source": [
        "pred_rf = rf.predict(x_test)\n",
        "confusion_matrix(y_test, pred_rf)"
      ]
    },
    {
      "cell_type": "code",
      "execution_count": 13,
      "metadata": {
        "colab": {
          "base_uri": "https://localhost:8080/"
        },
        "id": "7TShq3N7a1Ql",
        "outputId": "6c78728a-4a4e-4bcb-a2b7-470b3ae2daf9"
      },
      "outputs": [
        {
          "output_type": "stream",
          "name": "stdout",
          "text": [
            "              precision    recall  f1-score   support\n",
            "\n",
            "           0       0.98      1.00      0.99     57282\n",
            "           1       0.08      0.01      0.02      1272\n",
            "\n",
            "    accuracy                           0.98     58554\n",
            "   macro avg       0.53      0.51      0.51     58554\n",
            "weighted avg       0.96      0.98      0.97     58554\n",
            "\n"
          ]
        }
      ],
      "source": [
        "print(classification_report(y_test, pred_rf))"
      ]
    },
    {
      "cell_type": "code",
      "execution_count": 14,
      "metadata": {
        "colab": {
          "base_uri": "https://localhost:8080/"
        },
        "id": "Q7w2ljJQa2yf",
        "outputId": "130c0dc0-11f2-44ad-8f76-a78fdb4988aa"
      },
      "outputs": [
        {
          "output_type": "stream",
          "name": "stdout",
          "text": [
            "Accuracy:  0.9750486730197766\n",
            "Precision:  0.08\n",
            "Recall:  0.014150943396226415\n",
            "F1 Score:  0.024048096192384773\n",
            "ROC-AUC Score:  0.5052686213786411\n"
          ]
        }
      ],
      "source": [
        "print(\"Accuracy: \",accuracy_score(y_test, pred_rf))\n",
        "print(\"Precision: \",precision_score(y_test, pred_rf))\n",
        "print(\"Recall: \", recall_score(y_test, pred_rf))\n",
        "print(\"F1 Score: \", f1_score(y_test, pred_rf))\n",
        "print(\"ROC-AUC Score: \",roc_auc_score(y_test, pred_rf))"
      ]
    },
    {
      "cell_type": "code",
      "execution_count": 15,
      "metadata": {
        "colab": {
          "base_uri": "https://localhost:8080/"
        },
        "id": "OO5CUITwDbUn",
        "outputId": "2995c0ef-bd22-4a9e-d27b-d6a774bd4717"
      },
      "outputs": [
        {
          "output_type": "execute_result",
          "data": {
            "text/plain": [
              "array([[57075,   207],\n",
              "       [ 1254,    18]])"
            ]
          },
          "metadata": {},
          "execution_count": 15
        }
      ],
      "source": [
        "confusion_matrix(y_test, pred_rf)"
      ]
    },
    {
      "cell_type": "code",
      "execution_count": 16,
      "metadata": {
        "id": "G6ljJMA6a-rh"
      },
      "outputs": [],
      "source": [
        "importances = rf.feature_importances_\n",
        "std =np.std([tree.feature_importances_ for tree in rf.estimators_], axis=0)\n",
        "indices = np.argsort(importances)[::-1]"
      ]
    },
    {
      "cell_type": "markdown",
      "metadata": {
        "id": "_fITkzq6cpJI"
      },
      "source": [
        "## feature importance 뽑기"
      ]
    },
    {
      "cell_type": "code",
      "execution_count": 17,
      "metadata": {
        "colab": {
          "base_uri": "https://localhost:8080/"
        },
        "id": "SNa72Aeta30u",
        "outputId": "c44f99dd-1709-45d1-810f-c12e9e0cca2b"
      },
      "outputs": [
        {
          "output_type": "stream",
          "name": "stdout",
          "text": [
            "Feature Ranking :\n",
            "1. id_seq - 0.247404\n",
            "2. bsn_opr_month - 0.242544\n",
            "3. pblntf_pclnd - 0.184180\n",
            "4. total - 0.077101\n",
            "5. manpower_seq_tf - 0.033268\n",
            "6. homepage_tf - 0.013582\n",
            "7. pending_app_ipr_tf - 0.012306\n",
            "8. ksic_code_C - 0.010615\n",
            "9. email - 0.010275\n",
            "10. address_경상북도 - 0.010232\n",
            "11. ksic_code_G - 0.009969\n",
            "12. address_경기도 - 0.009805\n",
            "13. address_서울특별시 - 0.008680\n",
            "14. ksic_code_J - 0.007346\n",
            "15. address_인천광역시 - 0.006861\n",
            "16. count - 0.006591\n",
            "17. ksic_code_M - 0.006562\n",
            "18. venture_cert_date_cnt - 0.005902\n",
            "19. cprgt_cnt - 0.005714\n",
            "20. address_대구광역시 - 0.004809\n",
            "21. address_충청남도 - 0.004644\n",
            "22. lab_cnt - 0.004527\n",
            "23. ksic_code_F - 0.004495\n",
            "24. growth_up_tf - 0.004127\n",
            "25. address_강원도 - 0.004017\n",
            "26. ksic_code_N - 0.004011\n",
            "27. ceo_name_cnt - 0.004011\n",
            "28. address_충청북도 - 0.003474\n",
            "29. research_lab_type_연구소 정보 없음 - 0.003256\n",
            "30. rnd_seq_cnt - 0.003229\n",
            "31. ksic_code_H - 0.003075\n",
            "32. ksic_code_정보없음 - 0.003043\n",
            "33. address_대전광역시 - 0.002805\n",
            "34. design_cnt - 0.002572\n",
            "35. fnl_sucsf_cnt - 0.002547\n",
            "36. ksic_code_L - 0.002392\n",
            "37. ksic_code_I - 0.002319\n",
            "38. ksic_code_S - 0.002039\n",
            "39. ksic_code_P - 0.001769\n",
            "40. ksic_code_A - 0.001757\n",
            "41. design_app_num_tf - 0.001525\n",
            "42. corporate_type_정보없음 - 0.001509\n",
            "43. ksic_code_K - 0.001477\n",
            "44. address_세종특별자치시 - 0.001200\n",
            "45. research_lab_type_전담부서 - 0.001193\n",
            "46. research_lab_type_연구소 - 0.001157\n",
            "47. ksic_code_R - 0.001078\n",
            "48. ksic_code_E - 0.001047\n",
            "49. address_전라남도 - 0.001037\n",
            "50. inno_cert_date_cnt - 0.000984\n",
            "51. corporate_type_주식회사 - 0.000977\n",
            "52. ksic_code_B - 0.000856\n",
            "53. address_전라북도 - 0.000824\n",
            "54. corporate_type_유한회사 - 0.000818\n",
            "55. utility_cnt - 0.000662\n",
            "56. exporter_tf - 0.000488\n",
            "57. address_광주광역시 - 0.000478\n",
            "58. research_lab_type_연구소, 전기·전자 - 0.000412\n",
            "59. ksic_code_Q - 0.000370\n",
            "60. address_경상남도 - 0.000323\n",
            "61. inv_type_투자 정보 없음 - 0.000283\n",
            "62. corporate_type_기타법인 - 0.000243\n",
            "63. address_부산광역시 - 0.000225\n",
            "64. inv_type_시드 - 0.000217\n",
            "65. research_lab_type_연구소, 전문, 과학 및 기술 서비스 - 0.000200\n",
            "66. inv_type_프리시리즈A - 0.000193\n",
            "67. research_lab_type_연구소, 출판, 영상, 방송통신 및 정보서비스 - 0.000186\n",
            "68. research_lab_type_섬유, 연구소 - 0.000154\n",
            "69. research_lab_type_산업디자인, 연구소 - 0.000152\n",
            "70. research_lab_type_금속, 전담부서 - 0.000146\n",
            "71. research_lab_type_전기·전자, 전담부서 - 0.000140\n",
            "72. research_lab_type_건설, 연구소 - 0.000120\n",
            "73. research_lab_type_기타(과학기술), 전담부서 - 0.000114\n",
            "74. inv_type_시리즈B - 0.000086\n",
            "75. research_lab_type_기계, 전담부서 - 0.000086\n",
            "76. research_lab_type_식품, 연구소 - 0.000081\n",
            "77. corporate_type_협동조합, 사회적협동조합 - 0.000069\n",
            "78. research_lab_type_기타(과학기술), 연구소 - 0.000065\n",
            "79. research_lab_type_전문, 과학 및 기술 서비스 - 0.000058\n",
            "80. research_lab_type_전기·전자 - 0.000057\n",
            "81. corporate_type_합자회사 - 0.000051\n",
            "82. research_lab_type_산업디자인, 전담부서 - 0.000048\n",
            "83. research_lab_type_기계, 연구소 - 0.000045\n",
            "84. address_제주특별자치도 - 0.000042\n",
            "85. research_lab_type_소재, 연구소 - 0.000035\n",
            "86. research_lab_type_출판, 영상, 방송통신 및 정보서비스 - 0.000035\n",
            "87. research_lab_type_전담부서, 출판, 영상, 방송통신 및 정보서비스 - 0.000032\n",
            "88. ksic_code_D - 0.000030\n",
            "89. research_lab_type_전담부서, 화학 - 0.000028\n",
            "90. smallgiant_brand_tf - 0.000026\n",
            "91. research_lab_type_소재 - 0.000026\n",
            "92. research_lab_type_기타(과학기술) - 0.000026\n",
            "93. corporate_type_법무법인, 법무법인(유한) - 0.000025\n",
            "94. research_lab_type_기계 - 0.000023\n",
            "95. research_lab_type_전담부서, 정보처리 - 0.000023\n",
            "96. research_lab_type_전담부서, 환경 - 0.000023\n",
            "97. research_lab_type_생명과학, 연구소 - 0.000021\n",
            "98. research_lab_type_연구소, 정보처리 - 0.000020\n",
            "99. research_lab_type_도매 및 소매, 전담부서 - 0.000020\n",
            "100. research_lab_type_건설, 전담부서 - 0.000016\n",
            "101. research_lab_type_연구소, 화학 - 0.000016\n",
            "102. research_lab_type_전담부서, 전문, 과학 및 기술 서비스 - 0.000015\n",
            "103. research_lab_type_식품, 전담부서 - 0.000014\n",
            "104. research_lab_type_도매 및 소매 - 0.000014\n",
            "105. inv_type_지원금 - 0.000013\n",
            "106. research_lab_type_환경 - 0.000012\n",
            "107. address_울산광역시 - 0.000012\n",
            "108. research_lab_type_건설, 연구소, 전담부서 - 0.000011\n",
            "109. research_lab_type_화학 - 0.000011\n",
            "110. research_lab_type_금속, 연구소 - 0.000010\n",
            "111. inv_type_시리즈A - 0.000010\n",
            "112. research_lab_type_금속 - 0.000009\n",
            "113. research_lab_type_소재, 전담부서 - 0.000008\n",
            "114. research_lab_type_도매 및 소매, 연구소 - 0.000008\n",
            "115. research_lab_type_기계, 연구소, 전담부서 - 0.000007\n",
            "116. research_lab_type_연구소, 환경 - 0.000007\n",
            "117. research_lab_type_식품 - 0.000005\n",
            "118. research_lab_type_사업시설관리 및 사업지원서비스, 연구소 - 0.000005\n",
            "119. research_lab_type_정보처리 - 0.000005\n",
            "120. corporate_type_중소기업협동조합, 사업협동조합, 협동조합연합회, 중소기업중앙회 - 0.000005\n",
            "121. corporate_type_재단법인 - 0.000005\n",
            "122. research_lab_type_숙박 및 음식점, 전담부서 - 0.000005\n",
            "123. design_app_date_tf - 0.000005\n",
            "124. ksic_code_O - 0.000005\n",
            "125. inv_type_비공개 - 0.000004\n",
            "126. research_lab_type_생명과학, 전담부서 - 0.000003\n",
            "127. research_lab_type_연구소, 전담부서, 환경 - 0.000003\n",
            "128. corporate_type_사단법인 - 0.000002\n",
            "129. corporate_type_유한책임회사 - 0.000002\n",
            "130. research_lab_type_건설 - 0.000002\n",
            "131. research_lab_type_연구소, 전기·전자, 전담부서 - 0.000002\n",
            "132. research_lab_type_산업디자인 - 0.000002\n",
            "133. research_lab_type_연구소, 하수·폐기물처리, 원료재생 및 환경복원 - 0.000002\n",
            "134. research_lab_type_연구소, 전담부서, 출판, 영상, 방송통신 및 정보서비스 - 0.000002\n",
            "135. research_lab_type_산업디자인, 연구소, 전담부서 - 0.000002\n",
            "136. research_lab_type_섬유, 전담부서 - 0.000002\n",
            "137. research_lab_type_교육서비스, 연구소 - 0.000002\n",
            "138. research_lab_type_문화및사업서비스, 전담부서 - 0.000001\n",
            "139. research_lab_type_도매 및 소매, 식품, 전담부서 - 0.000001\n",
            "140. corporate_type_합명회사 - 0.000001\n",
            "141. inv_type_M&A - 0.000001\n",
            "142. research_lab_type_의료및보건, 전담부서 - 0.000001\n",
            "143. research_lab_type_문화및사업서비스 - 0.000001\n",
            "144. research_lab_type_교육서비스, 전담부서 - 0.000001\n",
            "145. research_lab_type_연구소, 예술, 스포츠 및 여가관련 서비스 - 0.000001\n",
            "146. research_lab_type_예술, 스포츠 및 여가관련 서비스, 전담부서 - 0.000001\n",
            "147. research_lab_type_기타(과학기술), 연구소, 전담부서 - 0.000001\n",
            "148. research_lab_type_기타(서비스) - 0.000001\n",
            "149. research_lab_type_생명과학 - 0.000000\n",
            "150. research_lab_type_경영컨설팅, 전담부서 - 0.000000\n",
            "151. research_lab_type_광고, 전담부서 - 0.000000\n",
            "152. research_lab_type_소매 - 0.000000\n",
            "153. research_lab_type_연구소, 전담부서 - 0.000000\n",
            "154. research_lab_type_섬유 - 0.000000\n",
            "155. research_lab_type_생명과학, 연구소, 전담부서 - 0.000000\n",
            "156. research_lab_type_건설, 전담부서, 출판, 영상, 방송통신 및 정보서비스 - 0.000000\n",
            "157. research_lab_type_문화및사업서비스, 연구소 - 0.000000\n",
            "158. research_lab_type_금융 및 보험, 연구소 - 0.000000\n",
            "159. research_lab_type_소매, 전담부서 - 0.000000\n",
            "160. research_lab_type_의료및보건 - 0.000000\n",
            "161. research_lab_type_연구소, 전담부서, 화학 - 0.000000\n",
            "162. corporate_type_법무사법인, 법무사법인(유한) - 0.000000\n",
            "163. research_lab_type_경영컨설팅, 연구소 - 0.000000\n",
            "164. research_lab_type_금속, 연구소, 전담부서 - 0.000000\n",
            "165. research_lab_type_기계, 전기·전자, 전담부서 - 0.000000\n",
            "166. research_lab_type_도매 및 소매, 연구소, 전담부서 - 0.000000\n",
            "167. research_lab_type_전담부서, 출판 - 0.000000\n",
            "168. research_lab_type_기타(서비스), 연구소 - 0.000000\n",
            "169. research_lab_type_소재, 연구소, 전담부서 - 0.000000\n",
            "170. research_lab_type_소매, 연구소 - 0.000000\n",
            "171. research_lab_type_교육기관, 연구소 - 0.000000\n",
            "172. research_lab_type_사업시설관리 및 사업지원서비스, 전담부서 - 0.000000\n",
            "173. research_lab_type_연구소, 영화및오디오기록물제작 - 0.000000\n",
            "174. research_lab_type_연구소, 전담부서, 전문, 과학 및 기술 서비스, 화학 - 0.000000\n",
            "175. research_lab_type_기타(서비스), 연구소, 출판, 영상, 방송통신 및 정보서비스 - 0.000000\n",
            "176. research_lab_type_연구소, 전담부서, 출판 - 0.000000\n",
            "177. research_lab_type_기타(과학기술), 전담부서, 출판, 영상, 방송통신 및 정보서비스 - 0.000000\n",
            "178. research_lab_type_연구소, 전담부서, 전문, 과학 및 기술 서비스 - 0.000000\n",
            "179. research_lab_type_기타(과학기술), 연구소, 전기·전자 - 0.000000\n",
            "180. research_lab_type_연구소, 의료및보건 - 0.000000\n",
            "181. corporate_type_단위공업협동조합,특수공업협동조합, 공업협동조합중앙회 - 0.000000\n",
            "182. research_lab_type_도매 및 소매, 연구소, 전기·전자 - 0.000000\n",
            "183. research_lab_type_광고, 연구소 - 0.000000\n",
            "184. research_lab_type_연구소, 운수, 전담부서 - 0.000000\n",
            "185. research_lab_type_소매, 식품, 전담부서 - 0.000000\n",
            "186. research_lab_type_금속, 전기·전자, 전담부서 - 0.000000\n",
            "187. research_lab_type_연구소, 예술, 스포츠 및 여가관련 서비스, 전담부서 - 0.000000\n",
            "188. research_lab_type_연구소, 전담부서, 정보처리 - 0.000000\n",
            "189. research_lab_type_건설, 연구소, 전문, 과학 및 기술 서비스 - 0.000000\n",
            "190. research_lab_type_연구소, 출판 - 0.000000\n",
            "191. research_lab_type_운수, 전담부서 - 0.000000\n",
            "192. research_lab_type_섬유, 연구소, 전담부서 - 0.000000\n",
            "193. research_lab_type_금속, 소재, 연구소 - 0.000000\n",
            "194. research_lab_type_숙박 및 음식점, 연구소 - 0.000000\n",
            "195. research_lab_type_보건업 및 사회복지 서비스, 전담부서 - 0.000000\n",
            "196. research_lab_type_영화및오디오기록물제작 - 0.000000\n",
            "197. research_lab_type_교육서비스 - 0.000000\n",
            "198. research_lab_type_금융 및 보험 - 0.000000\n",
            "199. research_lab_type_기타(서비스), 전담부서 - 0.000000\n",
            "200. research_lab_type_교육기관, 전담부서 - 0.000000\n",
            "201. research_lab_type_식품, 연구소, 전담부서 - 0.000000\n",
            "202. inv_type_시리즈C - 0.000000\n",
            "203. ysbg_tf - 0.000000\n",
            "204. research_lab_type_연구소, 전담부서, 정보처리, 출판, 영상, 방송통신 및 정보서비스 - 0.000000\n",
            "205. research_lab_type_하수·폐기물처리, 원료재생 및 환경복원 - 0.000000\n",
            "206. research_lab_type_기계, 생명과학, 연구소 - 0.000000\n",
            "207. research_lab_type_연구소, 운수 - 0.000000\n",
            "208. research_lab_type_광고, 연구소, 전담부서 - 0.000000\n",
            "209. research_lab_type_소재, 연구소, 전문, 과학 및 기술 서비스 - 0.000000\n",
            "210. research_lab_type_소매, 연구소, 전담부서 - 0.000000\n",
            "211. research_lab_type_기계, 연구소, 전기·전자 - 0.000000\n",
            "212. research_lab_type_기타(과학기술), 연구소, 화학 - 0.000000\n",
            "213. research_lab_type_예술, 스포츠 및 여가관련 서비스 - 0.000000\n",
            "214. resoven_cert_date - 0.000000\n",
            "215. soven_cert_num - 0.000000\n",
            "216. research_lab_type_금속, 기타(과학기술), 연구소 - 0.000000\n",
            "217. research_lab_type_교육서비스, 연구소, 전담부서 - 0.000000\n",
            "218. research_lab_type_연구소, 정보처리, 출판, 영상, 방송통신 및 정보서비스 - 0.000000\n"
          ]
        }
      ],
      "source": [
        "print(\"Feature Ranking :\")\n",
        "importan = []\n",
        "for f in range(x_train.shape[1]):\n",
        "  print(\"{}. {} - {:.6f}\".format(f + 1, x_train.columns[indices][f], importances[indices[f]]))\n",
        "  importan.append(importances[indices[f]])"
      ]
    },
    {
      "cell_type": "code",
      "execution_count": 31,
      "metadata": {
        "id": "V1muwIu4H_sJ"
      },
      "outputs": [],
      "source": [
        "data = pd.read_csv('/content/drive/MyDrive/antock/bank_project2/full_short.csv', index_col = 0)\n",
        "goal = data['default_tf']\n",
        "data = data.drop('default_tf', axis=1)"
      ]
    },
    {
      "cell_type": "code",
      "execution_count": 32,
      "metadata": {
        "colab": {
          "base_uri": "https://localhost:8080/",
          "height": 661
        },
        "id": "UbdE37jCxzZW",
        "outputId": "0d71a306-cc22-4031-9e2f-3ffddd3d4099"
      },
      "outputs": [
        {
          "output_type": "execute_result",
          "data": {
            "text/plain": [
              "         ibk_seq    id_seq     base_ym  growth_up_tf  ceo_name_cnt  \\\n",
              "0            1.0  769252.0  2018-11-30             0           1.0   \n",
              "1            2.0  769252.0  2018-12-31             0           1.0   \n",
              "2            3.0  769252.0  2019-01-31             0           1.0   \n",
              "3            4.0  769252.0  2019-02-28             0           1.0   \n",
              "4            5.0  769252.0  2019-03-31             0           1.0   \n",
              "...          ...       ...         ...           ...           ...   \n",
              "238665  267547.0  969194.0  2020-05-31             0           1.0   \n",
              "238666  267548.0  969194.0  2020-06-30             0           1.0   \n",
              "238667  267549.0  969194.0  2020-07-31             0           1.0   \n",
              "238668  267550.0  969194.0  2020-08-31             0           1.0   \n",
              "238669  267551.0  969194.0  2020-09-30             0           1.0   \n",
              "\n",
              "        bsn_opr_month ksic_code corporate_type  count address  ...  \\\n",
              "0                 679         M           주식회사      0   서울특별시  ...   \n",
              "1                 679         M           주식회사      0   서울특별시  ...   \n",
              "2                 679         M           주식회사      0   서울특별시  ...   \n",
              "3                 679         M           주식회사      0   서울특별시  ...   \n",
              "4                 679         M           주식회사      0   서울특별시  ...   \n",
              "...               ...       ...            ...    ...     ...  ...   \n",
              "238665             64      정보없음         유한책임회사      0   서울특별시  ...   \n",
              "238666             64      정보없음         유한책임회사      0   서울특별시  ...   \n",
              "238667             64      정보없음         유한책임회사      0   서울특별시  ...   \n",
              "238668             64      정보없음         유한책임회사      0   서울특별시  ...   \n",
              "238669             64      정보없음         유한책임회사      0   서울특별시  ...   \n",
              "\n",
              "        design_cnt  design_app_date_tf  cprgt_cnt  total  pblntf_pclnd  \\\n",
              "0                0                   1          0      5       25740.0   \n",
              "1                0                   1          0      5       25740.0   \n",
              "2                0                   1          0      5       25740.0   \n",
              "3                0                   1          0      5       25740.0   \n",
              "4                0                   1          0      5       25740.0   \n",
              "...            ...                 ...        ...    ...           ...   \n",
              "238665           0                   1          0      9        1500.0   \n",
              "238666           0                   1          0      9        1500.0   \n",
              "238667           0                   1          0      9        1500.0   \n",
              "238668           0                   1          0      9        1500.0   \n",
              "238669           0                   1          0      9        1500.0   \n",
              "\n",
              "        homepage_tf  email  rnd_seq_cnt  pending_app_ipr_tf design_app_num_tf  \n",
              "0                 1    NaN            0                   0                 0  \n",
              "1                 1    NaN            0                   0                 0  \n",
              "2                 1    NaN            0                   0                 0  \n",
              "3                 1    NaN            0                   0                 0  \n",
              "4                 1    NaN            0                   0                 0  \n",
              "...             ...    ...          ...                 ...               ...  \n",
              "238665            1    NaN            0                   1                 0  \n",
              "238666            1    NaN            0                   1                 0  \n",
              "238667            1    NaN            0                   1                 0  \n",
              "238668            1    NaN            0                   1                 0  \n",
              "238669            1    NaN            0                   1                 0  \n",
              "\n",
              "[238670 rows x 33 columns]"
            ],
            "text/html": [
              "\n",
              "  <div id=\"df-4848ca5e-71f3-45b1-88e0-076712bdb129\">\n",
              "    <div class=\"colab-df-container\">\n",
              "      <div>\n",
              "<style scoped>\n",
              "    .dataframe tbody tr th:only-of-type {\n",
              "        vertical-align: middle;\n",
              "    }\n",
              "\n",
              "    .dataframe tbody tr th {\n",
              "        vertical-align: top;\n",
              "    }\n",
              "\n",
              "    .dataframe thead th {\n",
              "        text-align: right;\n",
              "    }\n",
              "</style>\n",
              "<table border=\"1\" class=\"dataframe\">\n",
              "  <thead>\n",
              "    <tr style=\"text-align: right;\">\n",
              "      <th></th>\n",
              "      <th>ibk_seq</th>\n",
              "      <th>id_seq</th>\n",
              "      <th>base_ym</th>\n",
              "      <th>growth_up_tf</th>\n",
              "      <th>ceo_name_cnt</th>\n",
              "      <th>bsn_opr_month</th>\n",
              "      <th>ksic_code</th>\n",
              "      <th>corporate_type</th>\n",
              "      <th>count</th>\n",
              "      <th>address</th>\n",
              "      <th>...</th>\n",
              "      <th>design_cnt</th>\n",
              "      <th>design_app_date_tf</th>\n",
              "      <th>cprgt_cnt</th>\n",
              "      <th>total</th>\n",
              "      <th>pblntf_pclnd</th>\n",
              "      <th>homepage_tf</th>\n",
              "      <th>email</th>\n",
              "      <th>rnd_seq_cnt</th>\n",
              "      <th>pending_app_ipr_tf</th>\n",
              "      <th>design_app_num_tf</th>\n",
              "    </tr>\n",
              "  </thead>\n",
              "  <tbody>\n",
              "    <tr>\n",
              "      <th>0</th>\n",
              "      <td>1.0</td>\n",
              "      <td>769252.0</td>\n",
              "      <td>2018-11-30</td>\n",
              "      <td>0</td>\n",
              "      <td>1.0</td>\n",
              "      <td>679</td>\n",
              "      <td>M</td>\n",
              "      <td>주식회사</td>\n",
              "      <td>0</td>\n",
              "      <td>서울특별시</td>\n",
              "      <td>...</td>\n",
              "      <td>0</td>\n",
              "      <td>1</td>\n",
              "      <td>0</td>\n",
              "      <td>5</td>\n",
              "      <td>25740.0</td>\n",
              "      <td>1</td>\n",
              "      <td>NaN</td>\n",
              "      <td>0</td>\n",
              "      <td>0</td>\n",
              "      <td>0</td>\n",
              "    </tr>\n",
              "    <tr>\n",
              "      <th>1</th>\n",
              "      <td>2.0</td>\n",
              "      <td>769252.0</td>\n",
              "      <td>2018-12-31</td>\n",
              "      <td>0</td>\n",
              "      <td>1.0</td>\n",
              "      <td>679</td>\n",
              "      <td>M</td>\n",
              "      <td>주식회사</td>\n",
              "      <td>0</td>\n",
              "      <td>서울특별시</td>\n",
              "      <td>...</td>\n",
              "      <td>0</td>\n",
              "      <td>1</td>\n",
              "      <td>0</td>\n",
              "      <td>5</td>\n",
              "      <td>25740.0</td>\n",
              "      <td>1</td>\n",
              "      <td>NaN</td>\n",
              "      <td>0</td>\n",
              "      <td>0</td>\n",
              "      <td>0</td>\n",
              "    </tr>\n",
              "    <tr>\n",
              "      <th>2</th>\n",
              "      <td>3.0</td>\n",
              "      <td>769252.0</td>\n",
              "      <td>2019-01-31</td>\n",
              "      <td>0</td>\n",
              "      <td>1.0</td>\n",
              "      <td>679</td>\n",
              "      <td>M</td>\n",
              "      <td>주식회사</td>\n",
              "      <td>0</td>\n",
              "      <td>서울특별시</td>\n",
              "      <td>...</td>\n",
              "      <td>0</td>\n",
              "      <td>1</td>\n",
              "      <td>0</td>\n",
              "      <td>5</td>\n",
              "      <td>25740.0</td>\n",
              "      <td>1</td>\n",
              "      <td>NaN</td>\n",
              "      <td>0</td>\n",
              "      <td>0</td>\n",
              "      <td>0</td>\n",
              "    </tr>\n",
              "    <tr>\n",
              "      <th>3</th>\n",
              "      <td>4.0</td>\n",
              "      <td>769252.0</td>\n",
              "      <td>2019-02-28</td>\n",
              "      <td>0</td>\n",
              "      <td>1.0</td>\n",
              "      <td>679</td>\n",
              "      <td>M</td>\n",
              "      <td>주식회사</td>\n",
              "      <td>0</td>\n",
              "      <td>서울특별시</td>\n",
              "      <td>...</td>\n",
              "      <td>0</td>\n",
              "      <td>1</td>\n",
              "      <td>0</td>\n",
              "      <td>5</td>\n",
              "      <td>25740.0</td>\n",
              "      <td>1</td>\n",
              "      <td>NaN</td>\n",
              "      <td>0</td>\n",
              "      <td>0</td>\n",
              "      <td>0</td>\n",
              "    </tr>\n",
              "    <tr>\n",
              "      <th>4</th>\n",
              "      <td>5.0</td>\n",
              "      <td>769252.0</td>\n",
              "      <td>2019-03-31</td>\n",
              "      <td>0</td>\n",
              "      <td>1.0</td>\n",
              "      <td>679</td>\n",
              "      <td>M</td>\n",
              "      <td>주식회사</td>\n",
              "      <td>0</td>\n",
              "      <td>서울특별시</td>\n",
              "      <td>...</td>\n",
              "      <td>0</td>\n",
              "      <td>1</td>\n",
              "      <td>0</td>\n",
              "      <td>5</td>\n",
              "      <td>25740.0</td>\n",
              "      <td>1</td>\n",
              "      <td>NaN</td>\n",
              "      <td>0</td>\n",
              "      <td>0</td>\n",
              "      <td>0</td>\n",
              "    </tr>\n",
              "    <tr>\n",
              "      <th>...</th>\n",
              "      <td>...</td>\n",
              "      <td>...</td>\n",
              "      <td>...</td>\n",
              "      <td>...</td>\n",
              "      <td>...</td>\n",
              "      <td>...</td>\n",
              "      <td>...</td>\n",
              "      <td>...</td>\n",
              "      <td>...</td>\n",
              "      <td>...</td>\n",
              "      <td>...</td>\n",
              "      <td>...</td>\n",
              "      <td>...</td>\n",
              "      <td>...</td>\n",
              "      <td>...</td>\n",
              "      <td>...</td>\n",
              "      <td>...</td>\n",
              "      <td>...</td>\n",
              "      <td>...</td>\n",
              "      <td>...</td>\n",
              "      <td>...</td>\n",
              "    </tr>\n",
              "    <tr>\n",
              "      <th>238665</th>\n",
              "      <td>267547.0</td>\n",
              "      <td>969194.0</td>\n",
              "      <td>2020-05-31</td>\n",
              "      <td>0</td>\n",
              "      <td>1.0</td>\n",
              "      <td>64</td>\n",
              "      <td>정보없음</td>\n",
              "      <td>유한책임회사</td>\n",
              "      <td>0</td>\n",
              "      <td>서울특별시</td>\n",
              "      <td>...</td>\n",
              "      <td>0</td>\n",
              "      <td>1</td>\n",
              "      <td>0</td>\n",
              "      <td>9</td>\n",
              "      <td>1500.0</td>\n",
              "      <td>1</td>\n",
              "      <td>NaN</td>\n",
              "      <td>0</td>\n",
              "      <td>1</td>\n",
              "      <td>0</td>\n",
              "    </tr>\n",
              "    <tr>\n",
              "      <th>238666</th>\n",
              "      <td>267548.0</td>\n",
              "      <td>969194.0</td>\n",
              "      <td>2020-06-30</td>\n",
              "      <td>0</td>\n",
              "      <td>1.0</td>\n",
              "      <td>64</td>\n",
              "      <td>정보없음</td>\n",
              "      <td>유한책임회사</td>\n",
              "      <td>0</td>\n",
              "      <td>서울특별시</td>\n",
              "      <td>...</td>\n",
              "      <td>0</td>\n",
              "      <td>1</td>\n",
              "      <td>0</td>\n",
              "      <td>9</td>\n",
              "      <td>1500.0</td>\n",
              "      <td>1</td>\n",
              "      <td>NaN</td>\n",
              "      <td>0</td>\n",
              "      <td>1</td>\n",
              "      <td>0</td>\n",
              "    </tr>\n",
              "    <tr>\n",
              "      <th>238667</th>\n",
              "      <td>267549.0</td>\n",
              "      <td>969194.0</td>\n",
              "      <td>2020-07-31</td>\n",
              "      <td>0</td>\n",
              "      <td>1.0</td>\n",
              "      <td>64</td>\n",
              "      <td>정보없음</td>\n",
              "      <td>유한책임회사</td>\n",
              "      <td>0</td>\n",
              "      <td>서울특별시</td>\n",
              "      <td>...</td>\n",
              "      <td>0</td>\n",
              "      <td>1</td>\n",
              "      <td>0</td>\n",
              "      <td>9</td>\n",
              "      <td>1500.0</td>\n",
              "      <td>1</td>\n",
              "      <td>NaN</td>\n",
              "      <td>0</td>\n",
              "      <td>1</td>\n",
              "      <td>0</td>\n",
              "    </tr>\n",
              "    <tr>\n",
              "      <th>238668</th>\n",
              "      <td>267550.0</td>\n",
              "      <td>969194.0</td>\n",
              "      <td>2020-08-31</td>\n",
              "      <td>0</td>\n",
              "      <td>1.0</td>\n",
              "      <td>64</td>\n",
              "      <td>정보없음</td>\n",
              "      <td>유한책임회사</td>\n",
              "      <td>0</td>\n",
              "      <td>서울특별시</td>\n",
              "      <td>...</td>\n",
              "      <td>0</td>\n",
              "      <td>1</td>\n",
              "      <td>0</td>\n",
              "      <td>9</td>\n",
              "      <td>1500.0</td>\n",
              "      <td>1</td>\n",
              "      <td>NaN</td>\n",
              "      <td>0</td>\n",
              "      <td>1</td>\n",
              "      <td>0</td>\n",
              "    </tr>\n",
              "    <tr>\n",
              "      <th>238669</th>\n",
              "      <td>267551.0</td>\n",
              "      <td>969194.0</td>\n",
              "      <td>2020-09-30</td>\n",
              "      <td>0</td>\n",
              "      <td>1.0</td>\n",
              "      <td>64</td>\n",
              "      <td>정보없음</td>\n",
              "      <td>유한책임회사</td>\n",
              "      <td>0</td>\n",
              "      <td>서울특별시</td>\n",
              "      <td>...</td>\n",
              "      <td>0</td>\n",
              "      <td>1</td>\n",
              "      <td>0</td>\n",
              "      <td>9</td>\n",
              "      <td>1500.0</td>\n",
              "      <td>1</td>\n",
              "      <td>NaN</td>\n",
              "      <td>0</td>\n",
              "      <td>1</td>\n",
              "      <td>0</td>\n",
              "    </tr>\n",
              "  </tbody>\n",
              "</table>\n",
              "<p>238670 rows × 33 columns</p>\n",
              "</div>\n",
              "      <button class=\"colab-df-convert\" onclick=\"convertToInteractive('df-4848ca5e-71f3-45b1-88e0-076712bdb129')\"\n",
              "              title=\"Convert this dataframe to an interactive table.\"\n",
              "              style=\"display:none;\">\n",
              "        \n",
              "  <svg xmlns=\"http://www.w3.org/2000/svg\" height=\"24px\"viewBox=\"0 0 24 24\"\n",
              "       width=\"24px\">\n",
              "    <path d=\"M0 0h24v24H0V0z\" fill=\"none\"/>\n",
              "    <path d=\"M18.56 5.44l.94 2.06.94-2.06 2.06-.94-2.06-.94-.94-2.06-.94 2.06-2.06.94zm-11 1L8.5 8.5l.94-2.06 2.06-.94-2.06-.94L8.5 2.5l-.94 2.06-2.06.94zm10 10l.94 2.06.94-2.06 2.06-.94-2.06-.94-.94-2.06-.94 2.06-2.06.94z\"/><path d=\"M17.41 7.96l-1.37-1.37c-.4-.4-.92-.59-1.43-.59-.52 0-1.04.2-1.43.59L10.3 9.45l-7.72 7.72c-.78.78-.78 2.05 0 2.83L4 21.41c.39.39.9.59 1.41.59.51 0 1.02-.2 1.41-.59l7.78-7.78 2.81-2.81c.8-.78.8-2.07 0-2.86zM5.41 20L4 18.59l7.72-7.72 1.47 1.35L5.41 20z\"/>\n",
              "  </svg>\n",
              "      </button>\n",
              "      \n",
              "  <style>\n",
              "    .colab-df-container {\n",
              "      display:flex;\n",
              "      flex-wrap:wrap;\n",
              "      gap: 12px;\n",
              "    }\n",
              "\n",
              "    .colab-df-convert {\n",
              "      background-color: #E8F0FE;\n",
              "      border: none;\n",
              "      border-radius: 50%;\n",
              "      cursor: pointer;\n",
              "      display: none;\n",
              "      fill: #1967D2;\n",
              "      height: 32px;\n",
              "      padding: 0 0 0 0;\n",
              "      width: 32px;\n",
              "    }\n",
              "\n",
              "    .colab-df-convert:hover {\n",
              "      background-color: #E2EBFA;\n",
              "      box-shadow: 0px 1px 2px rgba(60, 64, 67, 0.3), 0px 1px 3px 1px rgba(60, 64, 67, 0.15);\n",
              "      fill: #174EA6;\n",
              "    }\n",
              "\n",
              "    [theme=dark] .colab-df-convert {\n",
              "      background-color: #3B4455;\n",
              "      fill: #D2E3FC;\n",
              "    }\n",
              "\n",
              "    [theme=dark] .colab-df-convert:hover {\n",
              "      background-color: #434B5C;\n",
              "      box-shadow: 0px 1px 3px 1px rgba(0, 0, 0, 0.15);\n",
              "      filter: drop-shadow(0px 1px 2px rgba(0, 0, 0, 0.3));\n",
              "      fill: #FFFFFF;\n",
              "    }\n",
              "  </style>\n",
              "\n",
              "      <script>\n",
              "        const buttonEl =\n",
              "          document.querySelector('#df-4848ca5e-71f3-45b1-88e0-076712bdb129 button.colab-df-convert');\n",
              "        buttonEl.style.display =\n",
              "          google.colab.kernel.accessAllowed ? 'block' : 'none';\n",
              "\n",
              "        async function convertToInteractive(key) {\n",
              "          const element = document.querySelector('#df-4848ca5e-71f3-45b1-88e0-076712bdb129');\n",
              "          const dataTable =\n",
              "            await google.colab.kernel.invokeFunction('convertToInteractive',\n",
              "                                                     [key], {});\n",
              "          if (!dataTable) return;\n",
              "\n",
              "          const docLinkHtml = 'Like what you see? Visit the ' +\n",
              "            '<a target=\"_blank\" href=https://colab.research.google.com/notebooks/data_table.ipynb>data table notebook</a>'\n",
              "            + ' to learn more about interactive tables.';\n",
              "          element.innerHTML = '';\n",
              "          dataTable['output_type'] = 'display_data';\n",
              "          await google.colab.output.renderOutput(dataTable, element);\n",
              "          const docLink = document.createElement('div');\n",
              "          docLink.innerHTML = docLinkHtml;\n",
              "          element.appendChild(docLink);\n",
              "        }\n",
              "      </script>\n",
              "    </div>\n",
              "  </div>\n",
              "  "
            ]
          },
          "metadata": {},
          "execution_count": 32
        }
      ],
      "source": [
        "data.iloc[:,:]"
      ]
    },
    {
      "cell_type": "code",
      "execution_count": 33,
      "metadata": {
        "colab": {
          "base_uri": "https://localhost:8080/"
        },
        "id": "B4zgK2JQyle0",
        "outputId": "863f57a5-d663-495e-e203-9e3373b1fad8"
      },
      "outputs": [
        {
          "output_type": "execute_result",
          "data": {
            "text/plain": [
              "218"
            ]
          },
          "metadata": {},
          "execution_count": 33
        }
      ],
      "source": [
        "len(importances)"
      ]
    },
    {
      "cell_type": "code",
      "source": [
        "data = data.fillna(0)"
      ],
      "metadata": {
        "id": "tPFJbuPGKNvO"
      },
      "execution_count": 35,
      "outputs": []
    },
    {
      "cell_type": "code",
      "source": [
        "data = data.replace({'email':'@'},0)\n",
        "for i in range(len(data)):\n",
        "    if data['email'].iloc[i]==0:\n",
        "        pass\n",
        "    else:\n",
        "        data['email'].iloc[i] = 1"
      ],
      "metadata": {
        "colab": {
          "base_uri": "https://localhost:8080/"
        },
        "id": "HSqzgoJaJJfk",
        "outputId": "3843cf29-0aef-4415-d6ee-5b95470a292d"
      },
      "execution_count": 36,
      "outputs": [
        {
          "output_type": "stream",
          "name": "stderr",
          "text": [
            "/usr/local/lib/python3.7/dist-packages/pandas/core/indexing.py:1732: SettingWithCopyWarning: \n",
            "A value is trying to be set on a copy of a slice from a DataFrame\n",
            "\n",
            "See the caveats in the documentation: https://pandas.pydata.org/pandas-docs/stable/user_guide/indexing.html#returning-a-view-versus-a-copy\n",
            "  self._setitem_single_block(indexer, value, name)\n"
          ]
        }
      ]
    },
    {
      "cell_type": "code",
      "source": [
        "data = pd.get_dummies(data)"
      ],
      "metadata": {
        "id": "fbVu1rojJPzR"
      },
      "execution_count": 38,
      "outputs": []
    },
    {
      "cell_type": "code",
      "execution_count": 39,
      "metadata": {
        "colab": {
          "base_uri": "https://localhost:8080/"
        },
        "id": "MAcRP9wEyRL4",
        "outputId": "c03bd2df-d998-4512-f55c-373beee05001"
      },
      "outputs": [
        {
          "output_type": "execute_result",
          "data": {
            "text/plain": [
              "Index(['ibk_seq', 'id_seq', 'growth_up_tf', 'ceo_name_cnt', 'bsn_opr_month',\n",
              "       'count', 'inno_cert_date_cnt', 'venture_cert_date_cnt',\n",
              "       'smallgiant_brand_tf', 'ysbg_tf',\n",
              "       ...\n",
              "       'research_lab_type_전담부서, 화학', 'research_lab_type_전담부서, 환경',\n",
              "       'research_lab_type_전문, 과학 및 기술 서비스', 'research_lab_type_정보처리',\n",
              "       'research_lab_type_출판, 영상, 방송통신 및 정보서비스',\n",
              "       'research_lab_type_하수·폐기물처리, 원료재생 및 환경복원', 'research_lab_type_화학',\n",
              "       'research_lab_type_환경', 'email_0', 'email_1'],\n",
              "      dtype='object', length=272)"
            ]
          },
          "metadata": {},
          "execution_count": 39
        }
      ],
      "source": [
        "data.columns"
      ]
    },
    {
      "cell_type": "code",
      "execution_count": 30,
      "metadata": {
        "id": "vSE4NzQdw187",
        "colab": {
          "base_uri": "https://localhost:8080/",
          "height": 321
        },
        "outputId": "e4dac9d1-4b86-405f-e9a1-ca039f5680ae"
      },
      "outputs": [
        {
          "output_type": "error",
          "ename": "ValueError",
          "evalue": "ignored",
          "traceback": [
            "\u001b[0;31m---------------------------------------------------------------------------\u001b[0m",
            "\u001b[0;31mValueError\u001b[0m                                Traceback (most recent call last)",
            "\u001b[0;32m<ipython-input-30-9a43b3f46ac7>\u001b[0m in \u001b[0;36m<module>\u001b[0;34m\u001b[0m\n\u001b[0;32m----> 1\u001b[0;31m \u001b[0mlst\u001b[0m \u001b[0;34m=\u001b[0m \u001b[0mdata\u001b[0m\u001b[0;34m.\u001b[0m\u001b[0miloc\u001b[0m\u001b[0;34m[\u001b[0m\u001b[0;34m:\u001b[0m\u001b[0;34m,\u001b[0m\u001b[0;36m3\u001b[0m\u001b[0;34m:\u001b[0m\u001b[0;34m]\u001b[0m\u001b[0;34m.\u001b[0m\u001b[0mdot\u001b[0m\u001b[0;34m(\u001b[0m\u001b[0mimportances\u001b[0m\u001b[0;34m)\u001b[0m\u001b[0;34m\u001b[0m\u001b[0;34m\u001b[0m\u001b[0m\n\u001b[0m\u001b[1;32m      2\u001b[0m \u001b[0mdata\u001b[0m\u001b[0;34m[\u001b[0m\u001b[0;34m'target'\u001b[0m\u001b[0;34m]\u001b[0m \u001b[0;34m=\u001b[0m \u001b[0mgoal\u001b[0m\u001b[0;34m\u001b[0m\u001b[0;34m\u001b[0m\u001b[0m\n",
            "\u001b[0;32m/usr/local/lib/python3.7/dist-packages/pandas/core/frame.py\u001b[0m in \u001b[0;36mdot\u001b[0;34m(self, other)\u001b[0m\n\u001b[1;32m   1456\u001b[0m             \u001b[0;32mif\u001b[0m \u001b[0mlvals\u001b[0m\u001b[0;34m.\u001b[0m\u001b[0mshape\u001b[0m\u001b[0;34m[\u001b[0m\u001b[0;36m1\u001b[0m\u001b[0;34m]\u001b[0m \u001b[0;34m!=\u001b[0m \u001b[0mrvals\u001b[0m\u001b[0;34m.\u001b[0m\u001b[0mshape\u001b[0m\u001b[0;34m[\u001b[0m\u001b[0;36m0\u001b[0m\u001b[0;34m]\u001b[0m\u001b[0;34m:\u001b[0m\u001b[0;34m\u001b[0m\u001b[0;34m\u001b[0m\u001b[0m\n\u001b[1;32m   1457\u001b[0m                 raise ValueError(\n\u001b[0;32m-> 1458\u001b[0;31m                     \u001b[0;34mf\"Dot product shape mismatch, {lvals.shape} vs {rvals.shape}\"\u001b[0m\u001b[0;34m\u001b[0m\u001b[0;34m\u001b[0m\u001b[0m\n\u001b[0m\u001b[1;32m   1459\u001b[0m                 )\n\u001b[1;32m   1460\u001b[0m \u001b[0;34m\u001b[0m\u001b[0m\n",
            "\u001b[0;31mValueError\u001b[0m: Dot product shape mismatch, (238670, 269) vs (218,)"
          ]
        }
      ],
      "source": [
        "lst = data.iloc[:,3:].dot(importances)\n",
        "data['target'] = goal"
      ]
    },
    {
      "cell_type": "code",
      "execution_count": null,
      "metadata": {
        "id": "fzvDTv7ha4s9"
      },
      "outputs": [],
      "source": [
        "data['dot_sum']=lst"
      ]
    },
    {
      "cell_type": "code",
      "execution_count": null,
      "metadata": {
        "id": "8uuwwTme2RNr"
      },
      "outputs": [],
      "source": [
        "data['dot_sum']"
      ]
    },
    {
      "cell_type": "code",
      "execution_count": null,
      "metadata": {
        "id": "R-hf_2GDw1ne"
      },
      "outputs": [],
      "source": [
        "importances"
      ]
    },
    {
      "cell_type": "code",
      "execution_count": null,
      "metadata": {
        "id": "SPkBG4Yw_Qzr"
      },
      "outputs": [],
      "source": [
        "data.to_csv('/content/drive/MyDrive/antock/bank_project2/rf_short.csv')"
      ]
    },
    {
      "cell_type": "code",
      "execution_count": null,
      "metadata": {
        "id": "WtMjCSME_TAJ"
      },
      "outputs": [],
      "source": []
    }
  ],
  "metadata": {
    "colab": {
      "collapsed_sections": [],
      "provenance": []
    },
    "kernelspec": {
      "display_name": "Python 3 (ipykernel)",
      "language": "python",
      "name": "python3"
    },
    "language_info": {
      "codemirror_mode": {
        "name": "ipython",
        "version": 3
      },
      "file_extension": ".py",
      "mimetype": "text/x-python",
      "name": "python",
      "nbconvert_exporter": "python",
      "pygments_lexer": "ipython3",
      "version": "3.9.12"
    }
  },
  "nbformat": 4,
  "nbformat_minor": 0
}